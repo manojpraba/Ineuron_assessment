{
 "cells": [
  {
   "cell_type": "markdown",
   "metadata": {},
   "source": [
    "  Question: 1\n",
    "Write an efficient algorithm that searches for a value target in an m x n integer matrix. This matrix has the following properties:\n",
    "\n",
    "Integers in each row are sorted from right to left.\n",
    "\n",
    "The first integer of each row is greater than the last integer of the previous row.\n",
    "\n",
    "Example-: \n",
    "\n",
    "                                        Input: matrix = [[1,3,5,7],[10,11,16,20],[23,30,34,60]], target = 3\n",
    "\n",
    "                                         Output: True"
   ]
  },
  {
   "cell_type": "code",
   "execution_count": 1,
   "metadata": {},
   "outputs": [
    {
     "name": "stdout",
     "output_type": "stream",
     "text": [
      "Enter the matrix elements row-wise:\n",
      "Output: True\n"
     ]
    }
   ],
   "source": [
    "def search_matrix(matrix, target):\n",
    "    if not matrix or not matrix[0]:\n",
    "        return False\n",
    "    \n",
    "    rows, cols = len(matrix), len(matrix[0])\n",
    "    left, right = 0, rows * cols - 1\n",
    "    \n",
    "    while left <= right:\n",
    "        mid = (left + right) // 2\n",
    "        mid_value = matrix[mid // cols][mid % cols]\n",
    "        \n",
    "        if mid_value == target:\n",
    "            return True\n",
    "        elif mid_value < target:\n",
    "            left = mid + 1\n",
    "        else:\n",
    "            right = mid - 1\n",
    "    \n",
    "    return False\n",
    "\n",
    "# Get matrix and target from the user\n",
    "rows = int(input(\"Enter the number of rows in the matrix: \"))\n",
    "cols = int(input(\"Enter the number of columns in the matrix: \"))\n",
    "\n",
    "matrix = []\n",
    "print(\"Enter the matrix elements row-wise:\")\n",
    "for i in range(rows):\n",
    "    row = list(map(int, input().split()))\n",
    "    matrix.append(row)\n",
    "\n",
    "target = int(input(\"Enter the target value: \"))\n",
    "\n",
    "# Perform the search\n",
    "result = search_matrix(matrix, target)\n",
    "\n",
    "# Display the result\n",
    "print(\"Output:\", result)"
   ]
  },
  {
   "cell_type": "markdown",
   "metadata": {},
   "source": [
    "2. Write a program that takes a string as input, and counts the frequency of each word in the string, there might  be repeated characters in the string. Your task is to find the highest frequency and returns the length of the  highest-frequency word. "
   ]
  },
  {
   "cell_type": "code",
   "execution_count": 5,
   "metadata": {},
   "outputs": [
    {
     "name": "stdout",
     "output_type": "stream",
     "text": [
      "Test case  1\n",
      "Input string is  write write write all the number from from from 1 to 100\n",
      "Length of the highest-frequency word: 5\n",
      "Test case  2\n",
      "Input string is  \"count count count the occurrences of of of each each each word in in in this this this sentence sentence sentence\"\n",
      "Length of the highest-frequency word: 2\n"
     ]
    }
   ],
   "source": [
    "def highest_frequency_word_length(input_string):\n",
    "    # Split the input string into words\n",
    "    words = input_string.split()\n",
    "\n",
    "    # Count the frequency of each word\n",
    "    word_frequency = {}\n",
    "    for word in words:\n",
    "        word_frequency[word] = word_frequency.get(word, 0) + 1\n",
    "\n",
    "    # Find the word with the highest frequency\n",
    "    max_frequency_word = max(word_frequency, key=word_frequency.get)\n",
    "\n",
    "    # Return the length of the highest-frequency word\n",
    "    return len(max_frequency_word)\n",
    "for i in range(1,3):\n",
    "    # Get input string from the user\n",
    "    print(\"Test case \",i)\n",
    "    input_string = input(\"Enter a string: \")\n",
    "    print(\"Input string is \",input_string)\n",
    "\n",
    "    # Call the function and display the result\n",
    "    result = highest_frequency_word_length(input_string)\n",
    "    print(\"Length of the highest-frequency word:\", result)"
   ]
  },
  {
   "cell_type": "markdown",
   "metadata": {},
   "source": [
    "# Machine learning:"
   ]
  },
  {
   "cell_type": "markdown",
   "metadata": {},
   "source": [
    "1. Imagine you have a dataset where you have different Instagram features like u sername , Caption , Hashtag , Followers , Time_Since_posted , and likes , now your task is to predict the number of likes and Time Since posted and the rest of the features are your input features. Now you have to build a model which can predict the number of likes and Time Since posted. \n",
    "Dataset This is the Dataset You can use this dataset for this question."
   ]
  },
  {
   "cell_type": "code",
   "execution_count": null,
   "metadata": {},
   "outputs": [],
   "source": []
  }
 ],
 "metadata": {
  "kernelspec": {
   "display_name": "base",
   "language": "python",
   "name": "python3"
  },
  "language_info": {
   "codemirror_mode": {
    "name": "ipython",
    "version": 3
   },
   "file_extension": ".py",
   "mimetype": "text/x-python",
   "name": "python",
   "nbconvert_exporter": "python",
   "pygments_lexer": "ipython3",
   "version": "3.10.9"
  }
 },
 "nbformat": 4,
 "nbformat_minor": 2
}
