{
 "cells": [
  {
   "cell_type": "markdown",
   "metadata": {},
   "source": [
    "## 1.Explain how you can implement ML in a real world application.\n",
    "\n",
    "1. Define the Problem:\n",
    "Clearly understand and define the problem you want to solve.\n",
    "2. Collect and Prepare Data:\n",
    "Gather relevant data for your problem\n",
    "3. Exploratory Data Analysis (EDA):\n",
    "Analyze and visualize the data to gain insights into its characteristics.\n",
    "4. Feature Engineering:\n",
    "Extract relevant features from the data or create new features that might improve model performance.\n",
    "5. Model Selection:\n",
    "Choose an appropriate machine learning algorithm based on the nature of your problem.\n",
    "6. Model Training:\n",
    "Use the training dataset to train the chosen model. Adjust hyperparameters to optimize model performance.\n",
    "7. Model Evaluation:\n",
    "Assess the model's performance on the test set to obtain an unbiased estimate of its effectiveness.\n",
    "8. Hyperparameter Tuning:\n",
    "Fine-tune the hyperparameters of your model to optimize its performance further. \n",
    "9. Deployment:\n",
    "Once satisfied with the model's performance, deploy it in a real-world environment. \n",
    "10. Monitoring and Maintenance:\n",
    "Implement monitoring to keep track of the model's performance over time.\n"
   ]
  },
  {
   "cell_type": "markdown",
   "metadata": {},
   "source": []
  }
 ],
 "metadata": {
  "kernelspec": {
   "display_name": "base",
   "language": "python",
   "name": "python3"
  },
  "language_info": {
   "name": "python",
   "version": "3.10.9"
  }
 },
 "nbformat": 4,
 "nbformat_minor": 2
}
