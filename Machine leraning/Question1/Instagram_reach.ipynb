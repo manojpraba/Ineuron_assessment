{
 "cells": [
  {
   "cell_type": "markdown",
   "id": "6d357885",
   "metadata": {
    "papermill": {
     "duration": 0.009203,
     "end_time": "2023-06-12T12:49:22.539141",
     "exception": false,
     "start_time": "2023-06-12T12:49:22.529938",
     "status": "completed"
    },
    "tags": []
   },
   "source": [
    "# Machine learning:\n",
    "1. Imagine you have a dataset where you have different Instagram features like u sername , Caption , Hashtag , Followers , Time_Since_posted , and likes , now your task is to predict the number of likes and Time Since posted and the rest of the features are your input features. Now you have to build a model which can predict the number of likes and Time Since posted. \n",
    "Dataset This is the Dataset You can use this dataset for this question."
   ]
  },
  {
   "cell_type": "code",
   "execution_count": 1,
   "id": "eb05aa50",
   "metadata": {
    "execution": {
     "iopub.execute_input": "2023-06-12T12:49:22.557787Z",
     "iopub.status.busy": "2023-06-12T12:49:22.557317Z",
     "iopub.status.idle": "2023-06-12T12:49:25.281801Z",
     "shell.execute_reply": "2023-06-12T12:49:25.280256Z"
    },
    "papermill": {
     "duration": 2.737518,
     "end_time": "2023-06-12T12:49:25.285006",
     "exception": false,
     "start_time": "2023-06-12T12:49:22.547488",
     "status": "completed"
    },
    "tags": []
   },
   "outputs": [],
   "source": [
    "import pandas as pd\n",
    "import numpy as np\n",
    "import matplotlib.pyplot as plt\n",
    "import seaborn as sns\n",
    "\n",
    "import os\n",
    "import re\n",
    "import warnings\n",
    "\n",
    "from sklearn.feature_selection import SelectKBest, f_regression, RFE\n",
    "from sklearn.preprocessing import StandardScaler, MinMaxScaler,RobustScaler\n",
    "from sklearn.model_selection import  train_test_split, GridSearchCV, cross_validate, cross_val_score\n",
    "\n",
    "from sklearn.linear_model import LinearRegression\n",
    "from sklearn.linear_model import Ridge\n",
    "from sklearn.linear_model import Lasso\n",
    "from sklearn.linear_model import ElasticNet\n",
    "from sklearn.neighbors import KNeighborsRegressor\n",
    "from sklearn.svm import SVR\n",
    "from sklearn.tree import DecisionTreeRegressor\n",
    "from sklearn.ensemble import RandomForestRegressor, AdaBoostRegressor, GradientBoostingRegressor\n",
    "from xgboost import XGBRegressor\n",
    "\n",
    "from sklearn.datasets import make_regression\n",
    "from sklearn.multioutput import MultiOutputRegressor\n",
    "\n",
    "from sklearn import metrics\n",
    "from sklearn.metrics import mean_absolute_error, mean_squared_error, r2_score, accuracy_score\n",
    "\n",
    "warnings.filterwarnings(\"ignore\")\n",
    "%matplotlib inline"
   ]
  },
  {
   "cell_type": "code",
   "execution_count": 2,
   "id": "ccd696ef",
   "metadata": {
    "execution": {
     "iopub.execute_input": "2023-06-12T12:49:25.305516Z",
     "iopub.status.busy": "2023-06-12T12:49:25.304174Z",
     "iopub.status.idle": "2023-06-12T12:49:25.367000Z",
     "shell.execute_reply": "2023-06-12T12:49:25.365472Z"
    },
    "papermill": {
     "duration": 0.07664,
     "end_time": "2023-06-12T12:49:25.370388",
     "exception": false,
     "start_time": "2023-06-12T12:49:25.293748",
     "status": "completed"
    },
    "tags": []
   },
   "outputs": [
    {
     "data": {
      "text/html": [
       "<div>\n",
       "<style scoped>\n",
       "    .dataframe tbody tr th:only-of-type {\n",
       "        vertical-align: middle;\n",
       "    }\n",
       "\n",
       "    .dataframe tbody tr th {\n",
       "        vertical-align: top;\n",
       "    }\n",
       "\n",
       "    .dataframe thead th {\n",
       "        text-align: right;\n",
       "    }\n",
       "</style>\n",
       "<table border=\"1\" class=\"dataframe\">\n",
       "  <thead>\n",
       "    <tr style=\"text-align: right;\">\n",
       "      <th></th>\n",
       "      <th>Unnamed: 0</th>\n",
       "      <th>S.No</th>\n",
       "      <th>USERNAME</th>\n",
       "      <th>Caption</th>\n",
       "      <th>Followers</th>\n",
       "      <th>Hashtags</th>\n",
       "      <th>Time since posted</th>\n",
       "      <th>Likes</th>\n",
       "    </tr>\n",
       "  </thead>\n",
       "  <tbody>\n",
       "    <tr>\n",
       "      <th>0</th>\n",
       "      <td>0</td>\n",
       "      <td>1</td>\n",
       "      <td>mikequindazzi</td>\n",
       "      <td>Who are #DataScientist and what do they do? &gt;&gt;...</td>\n",
       "      <td>1600</td>\n",
       "      <td>#MachineLearning #AI #DataAnalytics #DataScien...</td>\n",
       "      <td>11 hours</td>\n",
       "      <td>139</td>\n",
       "    </tr>\n",
       "    <tr>\n",
       "      <th>1</th>\n",
       "      <td>1</td>\n",
       "      <td>2</td>\n",
       "      <td>drgorillapaints</td>\n",
       "      <td>We all know where it’s going. We just have to ...</td>\n",
       "      <td>880</td>\n",
       "      <td>#deck .#mac #macintosh#sayhello #apple #steve...</td>\n",
       "      <td>2 hours</td>\n",
       "      <td>23</td>\n",
       "    </tr>\n",
       "    <tr>\n",
       "      <th>2</th>\n",
       "      <td>2</td>\n",
       "      <td>3</td>\n",
       "      <td>aitrading_official</td>\n",
       "      <td>Alexander Barinov: 4 years as CFO in multinati...</td>\n",
       "      <td>255</td>\n",
       "      <td>#whoiswho #aitrading #ai #aitradingteam#instat...</td>\n",
       "      <td>2 hours</td>\n",
       "      <td>25</td>\n",
       "    </tr>\n",
       "    <tr>\n",
       "      <th>3</th>\n",
       "      <td>3</td>\n",
       "      <td>4</td>\n",
       "      <td>opensourcedworkplace</td>\n",
       "      <td>sfad</td>\n",
       "      <td>340</td>\n",
       "      <td>#iot #cre#workplace #CDO #bigdata #technology#...</td>\n",
       "      <td>3 hours</td>\n",
       "      <td>49</td>\n",
       "    </tr>\n",
       "    <tr>\n",
       "      <th>4</th>\n",
       "      <td>4</td>\n",
       "      <td>5</td>\n",
       "      <td>crea.vision</td>\n",
       "      <td>Ever missed a call while your phone was chargi...</td>\n",
       "      <td>304</td>\n",
       "      <td>#instamachinelearning #instabigdata#instamarke...</td>\n",
       "      <td>3 hours</td>\n",
       "      <td>30</td>\n",
       "    </tr>\n",
       "  </tbody>\n",
       "</table>\n",
       "</div>"
      ],
      "text/plain": [
       "   Unnamed: 0  S.No              USERNAME  \\\n",
       "0           0     1         mikequindazzi   \n",
       "1           1     2       drgorillapaints   \n",
       "2           2     3    aitrading_official   \n",
       "3           3     4  opensourcedworkplace   \n",
       "4           4     5           crea.vision   \n",
       "\n",
       "                                             Caption  Followers  \\\n",
       "0  Who are #DataScientist and what do they do? >>...       1600   \n",
       "1  We all know where it’s going. We just have to ...        880   \n",
       "2  Alexander Barinov: 4 years as CFO in multinati...        255   \n",
       "3                                               sfad        340   \n",
       "4  Ever missed a call while your phone was chargi...        304   \n",
       "\n",
       "                                            Hashtags Time since posted  Likes  \n",
       "0  #MachineLearning #AI #DataAnalytics #DataScien...          11 hours    139  \n",
       "1   #deck .#mac #macintosh#sayhello #apple #steve...           2 hours     23  \n",
       "2  #whoiswho #aitrading #ai #aitradingteam#instat...           2 hours     25  \n",
       "3  #iot #cre#workplace #CDO #bigdata #technology#...           3 hours     49  \n",
       "4  #instamachinelearning #instabigdata#instamarke...           3 hours     30  "
      ]
     },
     "execution_count": 2,
     "metadata": {},
     "output_type": "execute_result"
    }
   ],
   "source": [
    "df = pd.read_csv('C:\\Assessment\\Ineuron_assessment\\Machine leraning\\instagram_reach.csv',na_values=\"na\")\n",
    "df.head()"
   ]
  },
  {
   "cell_type": "code",
   "execution_count": 7,
   "id": "642285ce",
   "metadata": {},
   "outputs": [
    {
     "data": {
      "text/plain": [
       "(100, 8)"
      ]
     },
     "execution_count": 7,
     "metadata": {},
     "output_type": "execute_result"
    }
   ],
   "source": [
    "df.shape"
   ]
  },
  {
   "cell_type": "code",
   "execution_count": 3,
   "id": "a77e4143",
   "metadata": {},
   "outputs": [
    {
     "name": "stdout",
     "output_type": "stream",
     "text": [
      "<class 'pandas.core.frame.DataFrame'>\n",
      "RangeIndex: 100 entries, 0 to 99\n",
      "Data columns (total 8 columns):\n",
      " #   Column             Non-Null Count  Dtype \n",
      "---  ------             --------------  ----- \n",
      " 0   Unnamed: 0         100 non-null    int64 \n",
      " 1   S.No               100 non-null    int64 \n",
      " 2   USERNAME           100 non-null    object\n",
      " 3   Caption            94 non-null     object\n",
      " 4   Followers          100 non-null    int64 \n",
      " 5   Hashtags           100 non-null    object\n",
      " 6   Time since posted  100 non-null    object\n",
      " 7   Likes              100 non-null    int64 \n",
      "dtypes: int64(4), object(4)\n",
      "memory usage: 6.4+ KB\n"
     ]
    }
   ],
   "source": [
    "# df info\n",
    "df.info()"
   ]
  },
  {
   "cell_type": "code",
   "execution_count": 6,
   "id": "e90c042d",
   "metadata": {},
   "outputs": [
    {
     "data": {
      "text/plain": [
       "array([ 0,  1,  2,  3,  4,  5,  6,  7,  8,  9, 10, 11, 12, 13, 14, 15, 16,\n",
       "       17, 18, 19, 20, 21, 22, 23, 24, 25, 26], dtype=int64)"
      ]
     },
     "execution_count": 6,
     "metadata": {},
     "output_type": "execute_result"
    }
   ],
   "source": [
    "df['Unnamed: 0'].unique()"
   ]
  },
  {
   "cell_type": "code",
   "execution_count": 3,
   "id": "915b739b",
   "metadata": {
    "execution": {
     "iopub.execute_input": "2023-06-12T12:49:25.391279Z",
     "iopub.status.busy": "2023-06-12T12:49:25.390772Z",
     "iopub.status.idle": "2023-06-12T12:49:25.400683Z",
     "shell.execute_reply": "2023-06-12T12:49:25.399313Z"
    },
    "papermill": {
     "duration": 0.023693,
     "end_time": "2023-06-12T12:49:25.403560",
     "exception": false,
     "start_time": "2023-06-12T12:49:25.379867",
     "status": "completed"
    },
    "tags": []
   },
   "outputs": [
    {
     "data": {
      "text/plain": [
       "Index(['Unnamed: 0', 'S.No', 'USERNAME', 'Caption', 'Followers', 'Hashtags',\n",
       "       'Time since posted', 'Likes'],\n",
       "      dtype='object')"
      ]
     },
     "execution_count": 3,
     "metadata": {},
     "output_type": "execute_result"
    }
   ],
   "source": [
    "df.columns"
   ]
  },
  {
   "cell_type": "code",
   "execution_count": 4,
   "id": "dea53176",
   "metadata": {
    "execution": {
     "iopub.execute_input": "2023-06-12T12:49:25.426146Z",
     "iopub.status.busy": "2023-06-12T12:49:25.425686Z",
     "iopub.status.idle": "2023-06-12T12:49:25.433800Z",
     "shell.execute_reply": "2023-06-12T12:49:25.432417Z"
    },
    "papermill": {
     "duration": 0.023589,
     "end_time": "2023-06-12T12:49:25.436343",
     "exception": false,
     "start_time": "2023-06-12T12:49:25.412754",
     "status": "completed"
    },
    "tags": []
   },
   "outputs": [
    {
     "data": {
      "text/plain": [
       "(100, 8)"
      ]
     },
     "execution_count": 4,
     "metadata": {},
     "output_type": "execute_result"
    }
   ],
   "source": [
    "df.shape"
   ]
  },
  {
   "cell_type": "code",
   "execution_count": 5,
   "id": "268d5cc1",
   "metadata": {
    "execution": {
     "iopub.execute_input": "2023-06-12T12:49:25.456982Z",
     "iopub.status.busy": "2023-06-12T12:49:25.456526Z",
     "iopub.status.idle": "2023-06-12T12:49:25.488912Z",
     "shell.execute_reply": "2023-06-12T12:49:25.487224Z"
    },
    "papermill": {
     "duration": 0.046933,
     "end_time": "2023-06-12T12:49:25.492562",
     "exception": false,
     "start_time": "2023-06-12T12:49:25.445629",
     "status": "completed"
    },
    "tags": []
   },
   "outputs": [
    {
     "name": "stdout",
     "output_type": "stream",
     "text": [
      "<class 'pandas.core.frame.DataFrame'>\n",
      "RangeIndex: 100 entries, 0 to 99\n",
      "Data columns (total 8 columns):\n",
      " #   Column             Non-Null Count  Dtype \n",
      "---  ------             --------------  ----- \n",
      " 0   Unnamed: 0         100 non-null    int64 \n",
      " 1   S.No               100 non-null    int64 \n",
      " 2   USERNAME           100 non-null    object\n",
      " 3   Caption            94 non-null     object\n",
      " 4   Followers          100 non-null    int64 \n",
      " 5   Hashtags           100 non-null    object\n",
      " 6   Time since posted  100 non-null    object\n",
      " 7   Likes              100 non-null    int64 \n",
      "dtypes: int64(4), object(4)\n",
      "memory usage: 6.4+ KB\n"
     ]
    }
   ],
   "source": [
    "df.info()"
   ]
  },
  {
   "cell_type": "code",
   "execution_count": 12,
   "id": "58bc7127",
   "metadata": {},
   "outputs": [
    {
     "data": {
      "text/plain": [
       "0"
      ]
     },
     "execution_count": 12,
     "metadata": {},
     "output_type": "execute_result"
    }
   ],
   "source": [
    "df.duplicated().sum()"
   ]
  },
  {
   "cell_type": "code",
   "execution_count": 10,
   "id": "85c75ab1",
   "metadata": {},
   "outputs": [
    {
     "data": {
      "text/plain": [
       "array(['#MachineLearning #AI #DataAnalytics #DataScienc #DataLake',\n",
       "       '\\xa0#deck\\xa0.#mac\\xa0#macintosh#sayhello\\xa0#apple\\xa0#stevejobs\\xa0#ai\\xa0#evolution#artificialintelligence\\xa0#machinelearning#terminator\\xa0#illbeback\\xa0#technology#computerevolution\\xa0#computerscience#sciencefiction#computersciencetosciencefiction#tomorrowstechnology\\xa0#vr\\xa0#ar\\xa0#robot#robots\\xa0#t2\\xa0#businessdeck\\xa0#businessslides#illustration\\xa0#sketches\\xa0#drawing',\n",
       "       '#whoiswho\\xa0#aitrading\\xa0#ai\\xa0#aitradingteam#instateam\\xa0#instapeople\\xa0#ai\\xa0#trading#artificialintelligence\\xa0#crypto#cryptocurrency\\xa0#blockchain\\xa0#tradingforex#forex\\xa0#fiatmoney\\xa0#coins\\xa0#machinelearning#userexperience\\xa0#instamachinelearning#instabigdata\\xa0#instamarketing#artificialintelligence\\xa0#deeplearning#datascience\\xa0#industry\\xa0#marketing#bigdata\\xa0#datascience\\xa0#machinelearning#ml',\n",
       "       '#iot\\xa0#cre#workplace\\xa0#CDO\\xa0#bigdata\\xa0#technology#tech\\xa0#work\\xa0#computerscience\\xa0#blockchain#softwaredeveloper\\xa0#machinelearning#smartcity\\xa0#artificialintelligence#futureofwork\\xa0#opensource\\xa0#cybersecurity#ai\\xa0#softwareengineer\\xa0#engineering#smartcities\\xa0#developer\\xa0#autonomous#singularity\\xa0#webdeveloper#cryptocurrency\\xa0#programmers\\xa0#crypto#iiot\\xa0#robot',\n",
       "       '#instamachinelearning\\xa0#instabigdata#instamarketing\\xa0#artificialintelligence#industry\\xa0#deeplearning\\xa0#datascience#marketing\\xa0#machinelearning\\xa0#bigdata#artificialintelligence\\xa0#instadaily\\xa0#tech#software\\xa0#softwareengineer\\xa0#technology#crea.vision\\xa0#techy\\xa0#artificial\\xa0#artificiale#ipictureoftheday\\xa0#marketingdigital\\xa0#digital#live\\xa0#better\\xa0#enjoy',\n",
       "       '#edtech\\xa0#learning#educationtechnology\\xa0#tech #learnnewskills #onlinelearning #teach #study #lifelonglearning #bigdata #chatbot #digitalliteracy #entrepreneurship #entrepreneur #startup #startupaus #studying #entrepreneur #machinelearning #coach #tech#techstartup #blockchain #videocourse #analytics',\n",
       "       '.#Tech\\u2028#virtualreality\\u2028#IoT\\u2028#Machinelearning',\n",
       "       '#datascientist\\xa0#creativetechnology#design\\xa0#artwork\\xa0#dataartwork\\xa0#dataart#innovation\\xa0#tech\\xa0#startup#machinelearning\\xa0#deeplearning\\xa0#IA\\xa0#data#bigdata\\xa0#modernart\\xa0#contemporaryart#painting\\xa0#datascience',\n",
       "       '#LTW\\xa0#London\\xa0#TechXLR8\\xa0#Technology#AI\\xa0#ArtificialIntelligence\\xa0#MachineLearning#Data\\xa0#Future\\xa0#Ethics\\xa0#HumanRights#WomenInTech\\xa0#WomenInSTEM\\xa0#OurWorld#LondonTechWeek\\xa0#EthicalTech#EthicsAndAI',\n",
       "       '[#Infographic]\\xa0#Wearable\\xa0#Sensors\\xa0#MachineLearning#IoT\\xa0#BigData\\xa0#DigitalTransformation#futureofwork\\xa0#marketing\\xa0#analytics#bigdata\\xa0#Cloud\\xa0#Blogging#ContentMarketing\\xa0#DigitalMarketing\\xa0ht:\\xa0#BigData\\xa0#MachineLearning\\xa0#AI\\xa0#IoT#infograp',\n",
       "       '#artificialintelligence\\xa0#futurism#machinelearning\\xa0#marketing#b2cmarketing\\xa0#thetimes\\xa0#thedrum#hubspot\\xa0#leadgeneration',\n",
       "       '#WedenesdayWisdom\\xa0#IndustryInsights#GetSkilledGetHired\\xa0#reskill\\xa0#careergoals#DataScience\\xa0#MachineLearning#MeanStack\\xa0#WebDevelopment#careergrowth\\xa0#technology\\xa0#futuretrends#software\\xa0#startup\\xa0#GetSkilled\\xa0#GetHired#edWisor\\xa0#DreamJob',\n",
       "       '#webdevelopment\\xa0#coding\\xa0#programming#codinglife\\xa0#code\\xa0#100daysofcode\\xa0#java#programmerhumor\\xa0#javascript\\xa0#html#cursosbarcelona\\xa0#berlin\\xa0#css#datascience\\xa0#stem\\xa0#workgoals#officegoals\\xa0#learning\\xa0#machinelearning#getitdone\\xa0#anotherday\\xa0#instagood#dataanalysis\\xa0#education\\xa0#motivation#barcelona\\xa0#careers\\xa0#careeradvice',\n",
       "       '#artificialintelligence\\xa0#ai#machinelearning#deeplearning\\xa0#algorithm\\xa0#algorithms\\xa0#cs#ml\\xa0#blockchain\\xa0#sopia#robots\\xa0#project#aiproject#tag#it#boats#artificialintelligenceai\\xa0#github\\xa0#data\\xa0#python\\xa0#R\\xa0#coding#programming\\xa0#coder\\xa0#programmer',\n",
       "       '#blockchaintechnology\\xa0#blockchains\\xa0#tech#technology\\xa0#IoT\\xa0#InternetOfThings#Bitcoin\\xa0#business\\xa0#businessintelligence#BI\\xa0#AI\\xa0#ArtificialIntelligence\\xa0#ML#MachineLearning\\xa0#infographic\\xa0#DL#DeepLearning\\xa0#data\\xa0#bigdata#datascience',\n",
       "       '#google\\xa0#Android#machinelearning\\xa0#womenwhocode#devfestdc\\xa0#gdg',\n",
       "       '#Eligible\\xa0#EligibleAPI\\xa0#HealthCare#HealthCareTech\\xa0#HealthIT\\xa0#engineering#Programming\\xa0#Code\\xa0#Software\\xa0#API#HIPAA\\xa0#AI\\xa0#MachineLearning#DeepLearning\\xa0#Tech\\xa0#StartupLife#DataScience\\xa0#security\\xa0#Compliance',\n",
       "       '#MxPartnerDay\\xa0#MLKit\\xa0#machinelearning#android\\xa0#google\\xa0#googleplay',\n",
       "       '#engineer\\xa0#machinelearning\\xa0#automotive#automation\\xa0#machinery\\xa0#engineering#engineers\\xa0#wbe\\xa0#careers\\xa0#jobs#technology\\xa0#robotics\\xa0#robots\\xa0#cnc\\xa0#ai#machines\\xa0#manufacturing\\xa0#wcw#puremichigan\\xa0#staffing',\n",
       "       '#newread\\xa0#whattoread\\xa0#summerreads#nowreading\\xa0#readingislife\\xa0#bookworm#booknerds\\xa0#writt\\xa0#writtorg\\xa0#wellread#bookreco\\xa0#bookrecommendations#whatareyoureading\\xa0#igbooks\\xa0#igreads#bookclub\\xa0#bookalicious\\xa0#classicliterature#classicbooks\\xa0#bestquotes\\xa0#quotes#goodreads\\xa0#bookaddict\\xa0#bookoftheday#quoteoftheday\\xa0#machinelearning#machines\\xa0#creativity\\xa0#art',\n",
       "       '\\xa0#datascience\\xa0#data\\xa0#tech\\xa0#technology#future\\xa0#machinelearning\\xa0#ai#visualizations\\xa0#dataisbeautiful',\n",
       "       '#Artificial #Intelligence #AI #MachineLearning #DeepLearning #Robotics #BigData #Dataviz #Analytics #SMM #IoT #Sensors #Xotiv #NLP #datascience #graph #graphanalysis #visualisation #image #analytics #imageanalytics #coder #software #business #Development',\n",
       "       '#digitalmarketing #machinelearning#entrepreneurship #businessminded#fourthofjuly',\n",
       "       '#DeepLearning #MachineLearning#ArtificialIntelligence #IoT #BigData#HealthTech #IIoT #Mobile #Infographics #smartphones #AI',\n",
       "       '#data_enthusiast #dataanalytics#datascientist #datascience #algorithm#deeplearning #machinelearning #ai#traditional #learning #neuralnetworks#aspiringdatascientist #followyourownpath',\n",
       "       '#development #react #vue #angular#software #javascript #html5 #nodejs#wordpress #teamtreehouse #worldcode#freecodecamp #css #hustle#eduacteyourself #machinelearning#codeuniverse #codegang #selftaught#365daysofcode #100daysofcode#curryandcode #webdev #codelife#webapp',\n",
       "       '#Repost #Javascript #ReactJS #Ruby #GDPR #Graduation #Mobile#VueJS #JQuery #Developers #Programmers #JS #Gift #Dev #ArtificialIntelligence #MachineLearning #Linux#Humour #Humor #Fintech #API #Sysadmin #ML #WomenInTech #Ubuntu #Security#IIOT #Hackers #TechHumor',\n",
       "       '#theminest\\xa0#miningrig\\xa0#gpumining#bitcoinmining\\xa0#bitcoin\\xa0#bitcoinmemes#cryptolife\\xa0#cryptomemes\\xa0#cryptomining#ethereum\\xa0#litecoin\\xa0#cryptonews\\xa0#altcoins#hodl\\xa0#hodlgang\\xa0#investinyourself#blockchain\\xa0#crypto\\xa0#miningfarm#ethereummining\\xa0#litecoinmining#bitcointrading\\xa0#bitcoinexchange\\xa0#bitcoins#coinbase',\n",
       "       '#Bitcoin\\xa0#Cryptocurrency#Ethereum\\xa0#stockmarket\\xa0#currencytrading#digitalmarketing\\xa0#litecoin\\xa0#Currency\\xa0#ico#token\\xa0#mining\\xa0#BitcoinExchange#Blockchain\\xa0#money\\xa0#community\\xa0#crypto#CryptoExchange\\xa0#fiat\\xa0#forex\\xa0#altcoin#stocks\\xa0#profit\\xa0\\xa0#investor\\xa0#investment#trader#forextrader\\xa0#nyse\\xa0#broker\\xa0#forexnews#forexanalysis',\n",
       "       '#nextmnl#groupm\\xa0#greenhousegroup\\xa0#eindhoven#effenaar\\xa0#Innovation\\xa0#marketingfestival#artificialintelligence\\xa0#voice#conversationalmarketing\\xa0#blockchain',\n",
       "       '#cosplay#gamerguy\\xa0#conceptart\\xa0#cryptocurrency#handdrawn\\xa0#digitalart\\xa0#rpg\\xa0#pcgamer#comingsoon\\xa0#videogames\\xa0#cryptogame#cyberpunk\\xa0#armor\\xa0#scifi\\xa0#dystopia#games\\xa0#blockchain\\xa0#instagamer#neondistrict\\xa0#degen\\xa0#themainspring',\n",
       "       '#sports\\xa0#football\\xa0#footy\\xa0#footballfans#footballplayer\\xa0#soccer\\xa0#soccerfans#soccerlife\\xa0#fifa\\xa0#fifa18\\xa0#fifaworldcup#blockchain\\xa0#spottheball\\xa0#gametime#fifagame\\xa0#playtowin\\xa0#play\\xa0#eyeontheprize#tech\\xa0#technology',\n",
       "       '#cryptocrackhead#blockchain#cryptocurrency\\xa0#crypto\\xa0#decentralise#bitcoin\\xa0#ethereum\\xa0#ripple\\xa0#dash#bitcoincash\\xa0#monero\\xa0#eos\\xa0#cardano\\xa0#tron#fiat\\xa0#millionaire\\xa0#trading\\xa0#altcoins\\xa0#money#future\\xa0#biitcoinaire\\xa0#gains\\xa0#funny#currency\\xa0#coinbase\\xa0#freedom\\xa0#binance#virtual\\xa0#ai\\xa0#coins',\n",
       "       '#youtube\\xa0#applemusic\\xa0#itunes#soundcloud\\xa0#spinrilla\\xa0#spotify\\xa0#bigdata#blockchain\\xa0#dontbandwagonlater',\n",
       "       '#IOTA #Wroclaw #Blockchain', '#blockchain #ethereum',\n",
       "       '#любовь\\xa0#gm\\xa0#sme\\xa0#smenigeria\\xa0#profits#businessowners\\xa0#businessplan#entrepreneurship\\xa0#entrepreneur#blockchain\\xa0#crypto\\xa0#cointelegraph#bitcoinprice\\xa0#mining\\xa0#cryptocurrencies#bch\\xa0#bitcoins\\xa0#litecoin\\xa0#investment#investor\\xa0#stockmarket\\xa0#stocks\\xa0#getrich#makemoney\\xa0#makemoneyonline#mentorship\\xa0#mentoring\\xa0#xrp\\xa0#bitfinex#altcoins',\n",
       "       '#bitcoin\\xa0#litecoin\\xa0#blockchain#cryptocurrency\\xa0#ripple\\xa0#coins\\xa0#tech#litebiteu\\xa0#ethereum\\xa0#reddcoin\\xa0#verge #Litebit',\n",
       "       '#MachineLearning #artificialintelligence#AI #IoT',\n",
       "       '#techtaster\\xa0#datagirl#womanintech\\xa0#technicalevangelist#technicalevangelism\\xa0#datascientist#datascience\\xa0#datagirl\\xa0#ai#artificialintelligence\\xa0#advancedanalytics#cognitiveservices\\xa0#faceAPI\\xa0#demo#everydaytechday\\xa0#womeninmicrosoft#womenintech\\xa0 #luis\\xa0#azureML#cognitiveservices\\xa0#datainsights#microsoftpartner',\n",
       "       '#ai #artificialintelligence', '#artificialintelligence',\n",
       "       '#quote\\xa0#quotes\\xa0#quoteoftheday#quoteoftheday\\xa0#quotesoftheday#quoted\\xa0#quotedaily\\xa0#quotegram#quotesdaily\\xa0#quoteslife\\xa0#quotetoday#quotesofinstagram\\xa0#quotefortheday#quotesforyou\\xa0#artificial#artificialintelligence\\xa0#meme\\xa0#memes#funnymeme\\xa0#funnymemes\\xa0#memesdaily#inspiring\\xa0#funnyquote\\xa0#funnyquotes#funnypost\\xa0#funnypic\\xa0#ridiculous\\xa0#wtfisthis',\n",
       "       '#cebit18\\xa0#cebit\\xa0#hannover\\xa0#cebit2018#ceyouinabit\\xa0#messehannover#hannovermesse\\xa0#artificialintelligence#künstlicheintelligenz\\xa0#informatik',\n",
       "       '#hannover\\xa0#cebit#digitalisierung\\xa0#entrancegmbh\\xa0#wuppertal#startup\\xa0#iot\\xa0#AI\\xa0#artificialintelligence',\n",
       "       ' #AI #machinelearning #artificialintelligence #careerservices #studentlearning',\n",
       "       '#worldcode\\xa0#coding#python\\xa0#codeaholics\\xa0#rstudio\\xa0#codinglife#worldofprogrammers\\xa0#datascience#machinelearning\\xa0#dataviz\\xa0#data\\xa0#statistics#macbookpro\\xa0#peoplewhocode#codeismylife\\xa0#datavisualization#artificialintelligence\\xa0#digitalnomads#digitalnomad\\xa0#travel',\n",
       "       '#IoT\\xa0#CyberSecurity\\xa0#BigData#infosec\\xa0#DigitalTransformation\\xa0#AI#Security\\xa0#Healthcare\\xa0#mobile\\xa0#Analytics#tech\\xa0#innovation\\xa0#TechNews\\xa0#Defstar5#artificialintelligence\\xa0#Infographics#BigData\\xa0#CIO\\xa0#blockchain\\xa0#chatbots#startups\\xa0#robots\\xa0#robotics\\xa0#startup\\xa0#ml#machinelearning\\xa0#artificialintelligence',\n",
       "       '#machinelearning\\xa0#artificialintelligence#blockchain\\xa0#data\\xa0#datascience\\xa0#analytics#technology\\xa0#london\\xa0 #hiring',\n",
       "       '#blockchain\\xa0#tech\\xa0#startups\\xa0#projetos#linux\\xa0#ethereum\\xa0#programmer#InternetdasCoisas\\xa0#smartcontract#internetofthings\\xa0#technology\\xa0#disruption#mobile\\xa0#nodemcu\\xa0#hyperledger\\xa0#chain#programming\\xa0#smartcontracts#hyperledgerfabric\\xa0#artificialintelligence#iot\\xa0#fintech\\xa0#industry40\\xa0#cloud#mobilelegends\\xa0#drones#personaldevelopment\\xa0#healthy',\n",
       "       '#data\\xa0#bigdata\\xa0#datavisualization#datascience\\xa0#artificialintelligence',\n",
       "       '#HR\\xa0#workplace#officedesign\\xa0#iot\\xa0#bigdata\\xa0#office#facilitymanagement\\xa0#technology#realestate\\xa0#tech\\xa0#work\\xa0#futureofwork#computerscience\\xa0#officespace\\xa0#facility#smartcity\\xa0#artificialintelligence#opensource\\xa0#softwareengineer#workplacedesign\\xa0#smartcities#autonomous\\xa0#singularity\\xa0#iiot\\xa0#CEO#csuite\\xa0#employeeengagement#employeeexperience\\xa0#CHRO#businessowner',\n",
       "       '#AI\\xa0#machinelearning\\xa0#auto#realtors\\xa0#tech#fitness\\xa0#socialselling#artificialintelligence#local\\xa0#sanantonio#realestate\\xa0#socialmedia#business\\xa0#sa#generator\\xa0#car\\xa0#innovation#cardealers#entrepreneurs\\xa0#COO\\xa0#app#sales\\xa0#ML',\n",
       "       '#digitalart\\xa0#artedigital\\xa0#paris\\xa0#technology#data\\xa0#visualart\\xa0#exhibition\\xa0#multimedia#tecnologia\\xa0#lighting\\xa0#visualcontent#lavillete\\xa0#interactive\\xa0#science\\xa0#creativity#creatividad\\xa0#grandpalais#artistesandrobots\\xa0#artificialintelligence#inteligenciaartificial\\xa0#ai\\xa0#robots\\xa0#robotics#machine\\xa0#orlan\\xa0#ryojiikeda\\xa0#immersive#electronicarts\\xa0#perception\\xa0#hybrid',\n",
       "       '#artificialintelligence\\xa0#machinelearning#bigdata\\xa0#supercomputer\\xa0#science#astrophysics\\xa0#astronomy\\xa0#einstein#relativity\\xa0#theoryofrelativity\\xa0#georgiatech#computerscience\\xa0#blackhole\\xa0#universe#cosmos',\n",
       "       '#bitcoin #ethereum #BTC#fun #Profit #success #business#motivation #rich #economy#cryptocurrency #news #fact #news#quotes #quote #Google #robot #laugh#ArtificialIntelligence #MachineLearning#DeepLearning #AI #Technology #Robotics#News #Facts #Fact #Startup #Joke',\n",
       "       '#junkbot #edukit #superbots #robotickits#arduino #parents #education#tipsforparents #kids #learn #recycle #code#design #innovate #invent #steameducation#technology #uae #dubai #robotics#buildyourownrobot #diyrobot#trashtotreasure #diy #artificialintelligence#robotfromjunk #stem',\n",
       "       ' #livinginitaly #tuscanyitaly#summerinitaly🇮🇹 #startup #startuplife#artificialintelligence #algorithm#voicebiometrics #myvoiceai',\n",
       "       '#Innovation in #Connectivity #EdgeDevices#EnergyStorage #EnergyDistribution #DataAnalytics #ArtificialIntelligence',\n",
       "       '#AI #DUBAI #artificialintelligence #neuralnetworks #datascience #bots #machinelearning #naturallanguageprocessing #dubai',\n",
       "       '#allblackeverything\\xa0#applewatch#applewatchseries3\\xa0#38mm\\xa0#swarovski#pandora\\xa0#weekendvibes\\xa0#style\\xa0#fashion#tech\\xa0#startup',\n",
       "       '#Interplay\\xa0#EidMubarak\\xa0#EidulFitr\\xa0#Eid#Eidblessings\\xa0#EidBliss#EidSaeed\\xa0#Eid2018#DigitalMarketingAgency\\xa0#SocialMedia#digitalmarketing\\xa0#onlinemarketing#startup\\xa0#creativeagency\\xa0#growdigitally',\n",
       "       '#mentoring\\xa0#enterprenuership\\xa0#grind#hustle\\xa0#learn\\xa0#education\\xa0#startup#dreamwork\\xa0#successquotes\\xa0#build#empire\\xa0#startuplife\\xa0#businessowners#ambition\\xa0#dreams\\xa0#goals\\xa0#lifegoals#goforit\\xa0#nevergiveup\\xa0#sucessmindset#businesswoman\\xa0#businessman#businesslife\\xa0#enterpreneurlifestyle#goodlife\\xa0#motivated\\xa0#enterpreneurmindset#millionairemindset',\n",
       "       '#moneymaker\\xa0#startup\\xa0#entrepreneurlife#entrepreneurs\\xa0#entrepreneurlifestyle#entrepreneurship\\xa0#onlinemarketing#motivational\\xa0#millionairemindset#successful\\xa0#millionairelifestyle#businesswoman\\xa0#inspiredaily#businessman\\xa0#founder\\xa0#businessowner#youngentrepreneur\\xa0#startuplife\\xa0 #igersperu#discoverperu\\xa0#sudamerica\\xa0#ig_peru_#experienceperu\\xa0#exploreperu\\xa0 #focalmarked #motivation\\xa0#tbt\\xa0#followme',\n",
       "       'thebeautymindset#businessman#quoteoftheday\\xa0#businessowner#businesswoman\\xa0#success\\xa0#grind#motivation\\xa0#motivational\\xa0#lifestyle#happiness\\xa0#entrepreneurs#entrepreneurlife\\xa0#business #working\\xa0#founder#startup\\xa0#money\\xa0#magazine\\xa0#moneymaker#startuplife #successful\\xa0#passion\\xa0#inspiredaily#hardwork\\xa0#hardworkpaysoff\\xa0#desire',\n",
       "       '#entrepreneur\\xa0#entrepreneurial#entrepreneurmindset\\xa0#fametags#entrepreneurship\\xa0#entrepreneurslife#entrepreneurs\\xa0#entrepreneurquotes#entrepreneurlifestyle\\xa0#business#businessowner\\xa0#ceo\\xa0#boss\\xa0#top\\xa0#high#rich\\xa0#success\\xa0#hustle\\xa0#luxury\\xa0#millionaire#billionaire\\xa0#lifegoals\\xa0#motivational\\xa0#goals#grind\\xa0#ambition\\xa0#startup\\xa0#mindset#achive\\xa0#hardwork',\n",
       "       '#Entrepreneur#Business#Entrepreneurship#WontStop#Mindset#Success#Hustle#Freedom#BusinessOwner#OnlineBusiness#Coaching#Ambition#Inspire#ThinkBig#Startup#HardWork#Businessman#BeYourOwnBoss#SmallBusiness#Believe#Motivate#Mentor\\xa0or\\xa0#mentoring#Givingback#InternetBusiness#Successe',\n",
       "       '#forex\\xa0#rich\\xa0#wealth\\xa0#millionaire\\xa0#invest#wallstreet\\xa0#business\\xa0#entrepreneurs#startup\\xa0#startups\\xa0#startuplife\\xa0#technology#tech\\xa0#digital\\xa0#computer\\xa0#gadget\\xa0#gadgets#geek\\xa0#geeks\\xa0#media\\xa0#newslol\\xa0#books#reading\\xa0#read\\xa0#entrepreneurship#businessman\\xa0#reader\\xa0#marketingdigital#goodreads\\xa0#seo',\n",
       "       '#weekend\\xa0#chill\\xa0#chilling\\xa0#Summer#founder\\xa0#startup\\xa0#smallbusiness\\xa0#smallbiz#contentmarketing\\xa0#consulting',\n",
       "       '#businesspassion#business\\xa0#toptags\\xa0#entrepreneurship#grind\\xa0#hustle\\xa0#learn\\xa0#education\\xa0#startup#success\\xa0#successquotes\\xa0#build#startuplife\\xa0#businessowners\\xa0#ambition#dream\\xa0#goals\\xa0#lifegoals\\xa0#goforit#nevergiveup\\xa0#successmindset#businessman\\xa0#businesswoman#businesslife\\xa0#entrepreneurlifestyle#goodlife\\xa0#entrepreneur\\xa0#motivated#businessowners\\xa0#motivation',\n",
       "       '#qoute\\xa0#success#motivation\\xa0#entrepreneur\\xa0#inspiration#startup\\xa0#follow\\xa0#read',\n",
       "       '#bitcoinsuperstar\\xa0#tonylocorriere#blockchain\\xa0#hodl\\xa0#hold\\xa0#market\\xa0#crypto#now\\xa0#wallet\\xa0#product',\n",
       "       '#product\\xa0#moderndesign\\xa0#concept#designing\\xa0#designs\\xa0#interiorarchitecture#designers\\xa0#prototype\\xa0#instadesign#menswear\\xa0#ootdmen\\xa0#lookoftheday#snobshots\\xa0#streetwear\\xa0#urbanfashion#fashiondiaries\\xa0#menwithstreetstyle#menstyle\\xa0#fashionkiller\\xa0#fashiongram#weloveatl\\xa0#whyiloveatl\\xa0#discoveratl#atlantacollective\\xa0#igersatlanta#atlantasnaps\\xa0#dji\\xa0#djimavic\\xa0#dronestagram#drones',\n",
       "       '#rareplanet\\xa0#shopatrareplanet\\xa0#India#indiangood\\xa0#kolkata\\xa0\\xa0#calcutta#handpainted\\xa0\\xa0#homedecor\\xa0#gifts#terracotta\\xa0#kettles\\xa0#product #likesforfollow\\xa0#like4like\\xa0#instalike#like4likeback\\xa0#likes4tags',\n",
       "       '#cookie\\xa0#cookier\\xa0#baking\\xa0#icing\\xa0#flooding#creativeprocess\\xa0#treats\\xa0#sweet\\xa0#sets#product\\xa0#cute\\xa0#yummy\\xa0#flornasweets#bakery\\xa0#smallbusiness\\xa0#colourful\\xa0#bbq',\n",
       "       '#exklusive_shot\\xa0#trb_autozone#carsofinstagram\\xa0#automotivegramm#carstagram\\xa0#ptk_vehicles\\xa0#classiccars#automotivedaily\\xa0#visualoflife\\xa0#product#moderndesign\\xa0#concept\\xa0#designing#designs\\xa0#interiorarchitecture\\xa0#designers#prototype\\xa0#instadesign\\xa0#designporn#innovation\\xa0#incredibleindia#photographers_of_india\\xa0#indiagram#storiesofindia\\xa0 #indiaclicks\\xa0#androidography#androidnesia\\xa0#abstract\\xa0#industry',\n",
       "       '#gear\\xa0#mensfashion\\xa0#womenfashion\\xa0#lids#product\\xa0#newfamily\\xa0#import\\xa0#export#borondo\\xa0#power\\xa0#powerlifting\\xa0#snapback#luxury\\xa0#holiday\\xa0#custom\\xa0#crossfit\\xa0#bogota#bogotagym\\xa0#bogotacolombia\\xa0#bogotadc#starkgym\\xa0#fitlife\\xa0#candy\\xa0#sponsor#followforfollow\\xa0#follow4follow',\n",
       "       '#Designer\\xa0#style\\xa0#artist#brand\\xa0#logo\\xa0#monogram\\xa0#corporate#identity\\xa0#lifestyle\\xa0#pure\\xa0#luxury\\xa0#product#posh\\xa0#london\\xa0#paris\\xa0#milan\\xa0#newyork#dubai\\xa0#sydney\\xa0#melbourne\\xa0#mumbai#dublin\\xa0#dubai\\xa0#cosmetics\\xa0#fashion\\xa0#art#artdirector\\xa0#creativity\\xa0#creative\\xa0#colour#abstract',\n",
       "       '#roamtheplanet\\xa0#travelphotography#visualoflife\\xa0#beachlife\\xa0#dametraveler#artofvisuals\\xa0#islandhopping#flashesofdelight\\xa0#thecreative\\xa0#product#moderndesign\\xa0#concept\\xa0#designing#designs\\xa0#interiorarchitecture\\xa0#designers#prototype\\xa0#instadesign\\xa0#designporn#innovation\\xa0#igersmiami\\xa0#miaexplore#miamiphotographer\\xa0#ig_miami#roamflorida\\xa0#lifestyle_miami\\xa0#panasonic#lumix\\xa0#panasoniclumix\\xa0#gh5',\n",
       "       '#hatsu\\xa0#hatsulovers\\xa0#design\\xa0#artdirection#setdesign\\xa0#fun\\xa0#colors\\xa0#veggie\\xa0#milk#alejandroherrada\\xa0#cinema4d#hatsuveggiemilk\\xa0#product\\xa0#graphicdesign#3d\\xa0#box\\xa0#diseñocolombiano\\xa0#cgi\\xa0#fun#colors\\xa0#veggie\\xa0#milk',\n",
       "       '#repost\\xa0#interiors#white\\xa0#elegant\\xa0#simple\\xa0#minimal#poire1796\\xa0#scentyourhome#illumensfragrance\\xa0#loveillumens#whiteblog\\xa0#product\\xa0#whiteinteriors\\xa0#home',\n",
       "       '#tvOS\\xa0#Apple\\xa0#AppleNews\\xa0#AppleDesign#WWDC\\xa0#WWDC18\\xa0#WWDC2018#applewatch\\xa0#iphone\\xa0#tv\\xa0#2018\\xa0#ios12#interesting\\xa0#concepts\\xa0#iphonese#iphonese2\\xa0#product\\xa0#notconfirmed#budget\\xa0#unknown\\xa0#cartoon\\xa0#high#instagram',\n",
       "       '#pmbrollchallenge\\xa0#Canon#Atomos\\xa0#Panasonic\\xa0#Movo\\xa0#MovoVXR10#Sony\\xa0#CanonLegriaMiniX\\xa0#LegriaMiniX#Cine\\xa0#Luts\\xa0#Canada\\xa0#SmallRig\\xa0#product#moderndesign\\xa0#concept\\xa0#designing#designs\\xa0#interiorarchitecture#magnumphotos\\xa0#streetlife\\xa0#documentary#exploreaustralia\\xa0#australiagram#ilovesydney\\xa0#canonphotos\\xa0#canoneos',\n",
       "       'monde_informatique#client\\xa0#project#product\\xa0#projectmanager',\n",
       "       '#sketchaday\\xa0#sketching\\xa0#sketchbook#sketch\\xa0#drawing\\xa0#art\\xa0#illustration\\xa0#marker#rendering\\xa0#touch\\xa0#photography#photooftheday\\xa0#picture\\xa0#picoftheday#instagood\\xa0#instasketch\\xa0#like\\xa0#love\\xa0#follow#industrialdesign\\xa0#productdesign\\xa0#product#design\\xa0#ideation\\xa0#tools\\xa0#instilldesign',\n",
       "       '#grassroots\\xa0#development#kidsplayingfootball\\xa0#kidslearning#kidshavingfun\\xa0#manchesterfa\\xa0#salford#delasalletournament\\xa0#monton\\xa0#properclub#doingthingstherightway\\xa0#montonsports#u6s\\xa0#newgeneration',\n",
       "       '#frisco#dallas\\xa0#dfw\\xa0#texas\\xa0#newconstruction#economy\\xa0#development\\xa0#landscaping#design\\xa0#ivoteyes',\n",
       "       '#INME\\xa0#inmemovement#indianeedsmoreentrepreneurs#entrepreneurindia\\xa0#entrepreneur#entrepreneurlife\\xa0#entrepreneurship#bigthings\\xa0#life\\xa0#startups\\xa0#business#startup\\xa0#movement\\xa0#knowledge#development\\xa0#india\\xa0#join',\n",
       "       '#developer\\xa0#coding\\xa0#programmer\\xa0#javascript\\xa0#programming\\xa0#software\\xa0#php#webdeveloper\\xa0#computerscience\\xa0#html\\xa0#css\\xa0#webdevelopment\\xa0#java\\xa0#coder\\xa0#html5#webdev\\xa0#backend\\xa0#programmers\\xa0#softwaredeveloper\\xa0#softwareengineering\\xa0#python#webdesign\\xa0#frontend\\xa0#development\\xa0#css3\\xa0#wordpress\\xa0#code\\xa0#webdesigner\\xa0#js',\n",
       "       '#design\\xa0#instaphoto\\xa0#inspiration#premierpro\\xa0#oreo\\xa0#videoediting\\xa0#isetups#aftereffects\\xa0#color\\xa0#colorcombination#work\\xa0#workspace\\xa0#development#hardwork\\xa0#dayout\\xa0#krakow\\xa0#programming#illustration\\xa0#photographer\\xa0#photo\\xa0#life#likeforlikes\\xa0#likeforfollow\\xa0#followme#folow4folow\\xa0#goodday\\xa0#goodweek',\n",
       "       '#cybersecurity\\xa0#programmer\\xa0#development#nerd\\xa0#mentalfitness',\n",
       "       '#android\\xa0#design\\xa0#development#benasdzimidas\\xa0#graphicdesign\\xa0#launcher#customisation\\xa0#material\\xa0#flat\\xa0#flatshadow#iconography\\xa0#ui\\xa0#ux\\xa0#graphicdesigner#graphicdesign\\xa0#photoshop\\xa0#illustrator#adobe\\xa0#color\\xa0#vector\\xa0#creative\\xa0#follow#wallpaper\\xa0#wallpapers\\xa0#androidwallpaper#photography\\xa0#minimal\\xa0#architecture\\xa0#text#sale',\n",
       "       '#html\\xa0#html5\\xa0#webdeveloper#websitedesign\\xa0#htmlcss\\xa0#web#development\\xa0#developer\\xa0#code#programming',\n",
       "       '#beverlyhills\\xa0#realestate#losangelesrealestate\\xa0#gc&management\\xa0#standardoil\\xa0#standardoilrealty#luxuryrealestate\\xa0#luxurydesign#losangeles\\xa0#designer\\xa0#development#homes\\xa0#interiordesign\\xa0#hustle#luxurylifestyle',\n",
       "       '#workspace\\xa0#work\\xa0#developer#development\\xa0#developerlife\\xa0#apple\\xa0#imac#macbook\\xa0#macbookpro\\xa0#blackandwhite#coder\\xa0#code\\xa0#coding\\xa0#html\\xa0#css\\xa0#php#wordpress\\xa0#javascript\\xa0#dvlp_search\\xa0#linux#ubuntu\\xa0#webdeveloper\\xa0#webdev#webdevelopment\\xa0#dev\\xa0#coder\\xa0#coding#code',\n",
       "       '#books\\xa0#book\\xa0#motivation\\xa0#inspiration\\xa0#life#booklover\\xa0#lifebook2018\\xa0#love\\xa0#finance#personality\\xa0#training\\xa0#growth#development\\xa0#musthave\\xa0#instadaily#trending\\xa0#sales\\xa0#happy\\xa0#knowledge#knowledgeispower\\xa0#amazon\\xa0#fiction\\xa0#scifi#hotsale\\xa0#art\\xa0#biography\\xa0 #autobiography#selfhelp\\xa0 #offers',\n",
       "       '#heavyequipment\\xa0#underconstruction#dozer\\xa0#realestate\\xa0#bluecollar\\xa0#D10#ibuildamerica\\xa0#earthmover\\xa0#caterpillar#demolition\\xa0#mining\\xa0#dumptruck\\xa0#builtforit#truck\\xa0#trucks\\xa0#underconstruction#engineering\\xa0#ironworker\\xa0#construction#developer\\xa0#dirt\\xa0#constructionworker#safety\\xa0#madeinamerica\\xa0#excavator#civilengineering\\xa0#quarry\\xa0#Americanmade#development\\xa0#operator',\n",
       "       '#marketing\\xa0#programming#development\\xa0#desarrollo\\xa0#webdesign#diseñoweb\\xa0#frontend\\xa0#backend\\xa0#apps#app\\xa0#mobileapps\\xa0#aplicaciones\\xa0#españa#panama\\xa0 #argentina\\xa0#chile\\xa0#uruguay#digitalmarketing\\xa0#socialmedia#ecommerce\\xa0#tiendaonline\\xa0#design#startup\\xa0#emprender\\xa0#website\\xa0#paginaweb#followme\\xa0#work\\xa0#business\\xa0#empresa'],\n",
       "      dtype=object)"
      ]
     },
     "execution_count": 10,
     "metadata": {},
     "output_type": "execute_result"
    }
   ],
   "source": [
    "df['Hashtags'].unique()"
   ]
  },
  {
   "cell_type": "code",
   "execution_count": 13,
   "id": "ab0cc26a",
   "metadata": {
    "execution": {
     "iopub.execute_input": "2023-06-12T12:49:25.513917Z",
     "iopub.status.busy": "2023-06-12T12:49:25.513518Z",
     "iopub.status.idle": "2023-06-12T12:49:25.521949Z",
     "shell.execute_reply": "2023-06-12T12:49:25.520632Z"
    },
    "papermill": {
     "duration": 0.022298,
     "end_time": "2023-06-12T12:49:25.524676",
     "exception": false,
     "start_time": "2023-06-12T12:49:25.502378",
     "status": "completed"
    },
    "tags": []
   },
   "outputs": [],
   "source": [
    "# Dropping these columns since these columns dont have any relation to the output feature.\n",
    "df = df.drop(['Unnamed: 0', 'S.No', 'USERNAME','Caption', 'Hashtags'], axis=1)"
   ]
  },
  {
   "cell_type": "code",
   "execution_count": 18,
   "id": "d957cdad",
   "metadata": {},
   "outputs": [
    {
     "data": {
      "text/plain": [
       "94"
      ]
     },
     "execution_count": 18,
     "metadata": {},
     "output_type": "execute_result"
    }
   ],
   "source": [
    "df.Followers.nunique()"
   ]
  },
  {
   "cell_type": "code",
   "execution_count": 14,
   "id": "62d19681",
   "metadata": {
    "execution": {
     "iopub.execute_input": "2023-06-12T12:49:25.546046Z",
     "iopub.status.busy": "2023-06-12T12:49:25.545042Z",
     "iopub.status.idle": "2023-06-12T12:49:25.556387Z",
     "shell.execute_reply": "2023-06-12T12:49:25.555047Z"
    },
    "papermill": {
     "duration": 0.024778,
     "end_time": "2023-06-12T12:49:25.558872",
     "exception": false,
     "start_time": "2023-06-12T12:49:25.534094",
     "status": "completed"
    },
    "tags": []
   },
   "outputs": [
    {
     "data": {
      "text/html": [
       "<div>\n",
       "<style scoped>\n",
       "    .dataframe tbody tr th:only-of-type {\n",
       "        vertical-align: middle;\n",
       "    }\n",
       "\n",
       "    .dataframe tbody tr th {\n",
       "        vertical-align: top;\n",
       "    }\n",
       "\n",
       "    .dataframe thead th {\n",
       "        text-align: right;\n",
       "    }\n",
       "</style>\n",
       "<table border=\"1\" class=\"dataframe\">\n",
       "  <thead>\n",
       "    <tr style=\"text-align: right;\">\n",
       "      <th></th>\n",
       "      <th>Followers</th>\n",
       "      <th>Time since posted</th>\n",
       "      <th>Likes</th>\n",
       "    </tr>\n",
       "  </thead>\n",
       "  <tbody>\n",
       "    <tr>\n",
       "      <th>0</th>\n",
       "      <td>1600</td>\n",
       "      <td>11 hours</td>\n",
       "      <td>139</td>\n",
       "    </tr>\n",
       "    <tr>\n",
       "      <th>1</th>\n",
       "      <td>880</td>\n",
       "      <td>2 hours</td>\n",
       "      <td>23</td>\n",
       "    </tr>\n",
       "    <tr>\n",
       "      <th>2</th>\n",
       "      <td>255</td>\n",
       "      <td>2 hours</td>\n",
       "      <td>25</td>\n",
       "    </tr>\n",
       "    <tr>\n",
       "      <th>3</th>\n",
       "      <td>340</td>\n",
       "      <td>3 hours</td>\n",
       "      <td>49</td>\n",
       "    </tr>\n",
       "    <tr>\n",
       "      <th>4</th>\n",
       "      <td>304</td>\n",
       "      <td>3 hours</td>\n",
       "      <td>30</td>\n",
       "    </tr>\n",
       "  </tbody>\n",
       "</table>\n",
       "</div>"
      ],
      "text/plain": [
       "   Followers Time since posted  Likes\n",
       "0       1600          11 hours    139\n",
       "1        880           2 hours     23\n",
       "2        255           2 hours     25\n",
       "3        340           3 hours     49\n",
       "4        304           3 hours     30"
      ]
     },
     "execution_count": 14,
     "metadata": {},
     "output_type": "execute_result"
    }
   ],
   "source": [
    "df.head()"
   ]
  },
  {
   "cell_type": "code",
   "execution_count": 15,
   "id": "ccfea3f9",
   "metadata": {
    "execution": {
     "iopub.execute_input": "2023-06-12T12:49:25.580273Z",
     "iopub.status.busy": "2023-06-12T12:49:25.579798Z",
     "iopub.status.idle": "2023-06-12T12:49:25.588248Z",
     "shell.execute_reply": "2023-06-12T12:49:25.586639Z"
    },
    "papermill": {
     "duration": 0.022335,
     "end_time": "2023-06-12T12:49:25.590898",
     "exception": false,
     "start_time": "2023-06-12T12:49:25.568563",
     "status": "completed"
    },
    "tags": []
   },
   "outputs": [
    {
     "data": {
      "text/plain": [
       "Index(['Followers', 'Time since posted', 'Likes'], dtype='object')"
      ]
     },
     "execution_count": 15,
     "metadata": {},
     "output_type": "execute_result"
    }
   ],
   "source": [
    "df.columns"
   ]
  },
  {
   "cell_type": "code",
   "execution_count": 16,
   "id": "88335ccc",
   "metadata": {
    "execution": {
     "iopub.execute_input": "2023-06-12T12:49:25.613617Z",
     "iopub.status.busy": "2023-06-12T12:49:25.612844Z",
     "iopub.status.idle": "2023-06-12T12:49:25.621289Z",
     "shell.execute_reply": "2023-06-12T12:49:25.619940Z"
    },
    "papermill": {
     "duration": 0.023055,
     "end_time": "2023-06-12T12:49:25.624405",
     "exception": false,
     "start_time": "2023-06-12T12:49:25.601350",
     "status": "completed"
    },
    "tags": []
   },
   "outputs": [
    {
     "name": "stdout",
     "output_type": "stream",
     "text": [
      "We have 2 numerical features : ['Followers', 'Likes']\n",
      "\n",
      "We have 1 categorical features : ['Time since posted']\n"
     ]
    }
   ],
   "source": [
    "# define numerical & categorical columns\n",
    "numeric_features = [feature for feature in df.columns if df[feature].dtype != 'O']\n",
    "categorical_features = [feature for feature in df.columns if df[feature].dtype == 'O']\n",
    "\n",
    "# print columns\n",
    "print('We have {} numerical features : {}'.format(len(numeric_features), numeric_features))\n",
    "print('\\nWe have {} categorical features : {}'.format(len(categorical_features), categorical_features))"
   ]
  },
  {
   "cell_type": "code",
   "execution_count": 19,
   "id": "1cd8adbb",
   "metadata": {
    "execution": {
     "iopub.execute_input": "2023-06-12T12:49:25.675254Z",
     "iopub.status.busy": "2023-06-12T12:49:25.674832Z",
     "iopub.status.idle": "2023-06-12T12:49:25.681995Z",
     "shell.execute_reply": "2023-06-12T12:49:25.680696Z"
    },
    "papermill": {
     "duration": 0.021137,
     "end_time": "2023-06-12T12:49:25.684583",
     "exception": false,
     "start_time": "2023-06-12T12:49:25.663446",
     "status": "completed"
    },
    "tags": []
   },
   "outputs": [],
   "source": [
    "# removing hours and typecasting to int\n",
    "df['Time since posted'] = df['Time since posted'].map(lambda a: int(re.sub('hours', '', a)))\n"
   ]
  },
  {
   "cell_type": "code",
   "execution_count": 20,
   "id": "ba5a023b",
   "metadata": {
    "execution": {
     "iopub.execute_input": "2023-06-12T12:49:25.707303Z",
     "iopub.status.busy": "2023-06-12T12:49:25.706835Z",
     "iopub.status.idle": "2023-06-12T12:49:25.716273Z",
     "shell.execute_reply": "2023-06-12T12:49:25.714797Z"
    },
    "papermill": {
     "duration": 0.024049,
     "end_time": "2023-06-12T12:49:25.718989",
     "exception": false,
     "start_time": "2023-06-12T12:49:25.694940",
     "status": "completed"
    },
    "tags": []
   },
   "outputs": [
    {
     "data": {
      "text/plain": [
       "Followers            int64\n",
       "Time since posted    int64\n",
       "Likes                int64\n",
       "dtype: object"
      ]
     },
     "execution_count": 20,
     "metadata": {},
     "output_type": "execute_result"
    }
   ],
   "source": [
    "df.dtypes"
   ]
  },
  {
   "cell_type": "code",
   "execution_count": 21,
   "id": "4056d0da",
   "metadata": {
    "execution": {
     "iopub.execute_input": "2023-06-12T12:49:25.741661Z",
     "iopub.status.busy": "2023-06-12T12:49:25.741230Z",
     "iopub.status.idle": "2023-06-12T12:49:25.752847Z",
     "shell.execute_reply": "2023-06-12T12:49:25.751351Z"
    },
    "papermill": {
     "duration": 0.026127,
     "end_time": "2023-06-12T12:49:25.755464",
     "exception": false,
     "start_time": "2023-06-12T12:49:25.729337",
     "status": "completed"
    },
    "tags": []
   },
   "outputs": [
    {
     "data": {
      "text/html": [
       "<div>\n",
       "<style scoped>\n",
       "    .dataframe tbody tr th:only-of-type {\n",
       "        vertical-align: middle;\n",
       "    }\n",
       "\n",
       "    .dataframe tbody tr th {\n",
       "        vertical-align: top;\n",
       "    }\n",
       "\n",
       "    .dataframe thead th {\n",
       "        text-align: right;\n",
       "    }\n",
       "</style>\n",
       "<table border=\"1\" class=\"dataframe\">\n",
       "  <thead>\n",
       "    <tr style=\"text-align: right;\">\n",
       "      <th></th>\n",
       "      <th>Followers</th>\n",
       "      <th>Time since posted</th>\n",
       "      <th>Likes</th>\n",
       "    </tr>\n",
       "  </thead>\n",
       "  <tbody>\n",
       "    <tr>\n",
       "      <th>0</th>\n",
       "      <td>1600</td>\n",
       "      <td>11</td>\n",
       "      <td>139</td>\n",
       "    </tr>\n",
       "    <tr>\n",
       "      <th>1</th>\n",
       "      <td>880</td>\n",
       "      <td>2</td>\n",
       "      <td>23</td>\n",
       "    </tr>\n",
       "    <tr>\n",
       "      <th>2</th>\n",
       "      <td>255</td>\n",
       "      <td>2</td>\n",
       "      <td>25</td>\n",
       "    </tr>\n",
       "    <tr>\n",
       "      <th>3</th>\n",
       "      <td>340</td>\n",
       "      <td>3</td>\n",
       "      <td>49</td>\n",
       "    </tr>\n",
       "    <tr>\n",
       "      <th>4</th>\n",
       "      <td>304</td>\n",
       "      <td>3</td>\n",
       "      <td>30</td>\n",
       "    </tr>\n",
       "  </tbody>\n",
       "</table>\n",
       "</div>"
      ],
      "text/plain": [
       "   Followers  Time since posted  Likes\n",
       "0       1600                 11    139\n",
       "1        880                  2     23\n",
       "2        255                  2     25\n",
       "3        340                  3     49\n",
       "4        304                  3     30"
      ]
     },
     "execution_count": 21,
     "metadata": {},
     "output_type": "execute_result"
    }
   ],
   "source": [
    "df.head()"
   ]
  },
  {
   "cell_type": "code",
   "execution_count": 22,
   "id": "45586790",
   "metadata": {
    "execution": {
     "iopub.execute_input": "2023-06-12T12:49:25.777930Z",
     "iopub.status.busy": "2023-06-12T12:49:25.777516Z",
     "iopub.status.idle": "2023-06-12T12:49:25.786087Z",
     "shell.execute_reply": "2023-06-12T12:49:25.784614Z"
    },
    "papermill": {
     "duration": 0.023357,
     "end_time": "2023-06-12T12:49:25.788981",
     "exception": false,
     "start_time": "2023-06-12T12:49:25.765624",
     "status": "completed"
    },
    "tags": []
   },
   "outputs": [],
   "source": [
    "# Splitting X and y for all Experiments\n",
    "X = df.drop(['Likes', 'Time since posted'], axis=1)\n",
    "y = df[['Likes', 'Time since posted']]"
   ]
  },
  {
   "cell_type": "code",
   "execution_count": 23,
   "id": "993cc117",
   "metadata": {
    "execution": {
     "iopub.execute_input": "2023-06-12T12:49:25.811755Z",
     "iopub.status.busy": "2023-06-12T12:49:25.811312Z",
     "iopub.status.idle": "2023-06-12T12:49:25.821511Z",
     "shell.execute_reply": "2023-06-12T12:49:25.820470Z"
    },
    "papermill": {
     "duration": 0.024618,
     "end_time": "2023-06-12T12:49:25.824166",
     "exception": false,
     "start_time": "2023-06-12T12:49:25.799548",
     "status": "completed"
    },
    "tags": []
   },
   "outputs": [
    {
     "data": {
      "text/html": [
       "<div>\n",
       "<style scoped>\n",
       "    .dataframe tbody tr th:only-of-type {\n",
       "        vertical-align: middle;\n",
       "    }\n",
       "\n",
       "    .dataframe tbody tr th {\n",
       "        vertical-align: top;\n",
       "    }\n",
       "\n",
       "    .dataframe thead th {\n",
       "        text-align: right;\n",
       "    }\n",
       "</style>\n",
       "<table border=\"1\" class=\"dataframe\">\n",
       "  <thead>\n",
       "    <tr style=\"text-align: right;\">\n",
       "      <th></th>\n",
       "      <th>Followers</th>\n",
       "    </tr>\n",
       "  </thead>\n",
       "  <tbody>\n",
       "    <tr>\n",
       "      <th>0</th>\n",
       "      <td>1600</td>\n",
       "    </tr>\n",
       "    <tr>\n",
       "      <th>1</th>\n",
       "      <td>880</td>\n",
       "    </tr>\n",
       "    <tr>\n",
       "      <th>2</th>\n",
       "      <td>255</td>\n",
       "    </tr>\n",
       "    <tr>\n",
       "      <th>3</th>\n",
       "      <td>340</td>\n",
       "    </tr>\n",
       "    <tr>\n",
       "      <th>4</th>\n",
       "      <td>304</td>\n",
       "    </tr>\n",
       "  </tbody>\n",
       "</table>\n",
       "</div>"
      ],
      "text/plain": [
       "   Followers\n",
       "0       1600\n",
       "1        880\n",
       "2        255\n",
       "3        340\n",
       "4        304"
      ]
     },
     "execution_count": 23,
     "metadata": {},
     "output_type": "execute_result"
    }
   ],
   "source": [
    "X.head()"
   ]
  },
  {
   "cell_type": "code",
   "execution_count": 24,
   "id": "dc06c981",
   "metadata": {
    "execution": {
     "iopub.execute_input": "2023-06-12T12:49:25.846968Z",
     "iopub.status.busy": "2023-06-12T12:49:25.846563Z",
     "iopub.status.idle": "2023-06-12T12:49:25.855974Z",
     "shell.execute_reply": "2023-06-12T12:49:25.855170Z"
    },
    "papermill": {
     "duration": 0.023396,
     "end_time": "2023-06-12T12:49:25.858100",
     "exception": false,
     "start_time": "2023-06-12T12:49:25.834704",
     "status": "completed"
    },
    "tags": []
   },
   "outputs": [
    {
     "data": {
      "text/html": [
       "<div>\n",
       "<style scoped>\n",
       "    .dataframe tbody tr th:only-of-type {\n",
       "        vertical-align: middle;\n",
       "    }\n",
       "\n",
       "    .dataframe tbody tr th {\n",
       "        vertical-align: top;\n",
       "    }\n",
       "\n",
       "    .dataframe thead th {\n",
       "        text-align: right;\n",
       "    }\n",
       "</style>\n",
       "<table border=\"1\" class=\"dataframe\">\n",
       "  <thead>\n",
       "    <tr style=\"text-align: right;\">\n",
       "      <th></th>\n",
       "      <th>Likes</th>\n",
       "      <th>Time since posted</th>\n",
       "    </tr>\n",
       "  </thead>\n",
       "  <tbody>\n",
       "    <tr>\n",
       "      <th>0</th>\n",
       "      <td>139</td>\n",
       "      <td>11</td>\n",
       "    </tr>\n",
       "    <tr>\n",
       "      <th>1</th>\n",
       "      <td>23</td>\n",
       "      <td>2</td>\n",
       "    </tr>\n",
       "    <tr>\n",
       "      <th>2</th>\n",
       "      <td>25</td>\n",
       "      <td>2</td>\n",
       "    </tr>\n",
       "    <tr>\n",
       "      <th>3</th>\n",
       "      <td>49</td>\n",
       "      <td>3</td>\n",
       "    </tr>\n",
       "    <tr>\n",
       "      <th>4</th>\n",
       "      <td>30</td>\n",
       "      <td>3</td>\n",
       "    </tr>\n",
       "  </tbody>\n",
       "</table>\n",
       "</div>"
      ],
      "text/plain": [
       "   Likes  Time since posted\n",
       "0    139                 11\n",
       "1     23                  2\n",
       "2     25                  2\n",
       "3     49                  3\n",
       "4     30                  3"
      ]
     },
     "execution_count": 24,
     "metadata": {},
     "output_type": "execute_result"
    }
   ],
   "source": [
    "y.head()"
   ]
  },
  {
   "cell_type": "code",
   "execution_count": 25,
   "id": "23ebda0f",
   "metadata": {
    "execution": {
     "iopub.execute_input": "2023-06-12T12:49:25.881530Z",
     "iopub.status.busy": "2023-06-12T12:49:25.881105Z",
     "iopub.status.idle": "2023-06-12T12:49:25.888169Z",
     "shell.execute_reply": "2023-06-12T12:49:25.886823Z"
    },
    "papermill": {
     "duration": 0.022004,
     "end_time": "2023-06-12T12:49:25.891017",
     "exception": false,
     "start_time": "2023-06-12T12:49:25.869013",
     "status": "completed"
    },
    "tags": []
   },
   "outputs": [],
   "source": [
    "def evaluate_clf(true, predicted):\n",
    "    '''\n",
    "    This function takes in true values and predicted values\n",
    "    Returns: MAE, MSE, RMSE, r2score\n",
    "    '''\n",
    "    MAE = mean_absolute_error(true, predicted) # Calculate Mean Absolute Error\n",
    "    MSE = mean_squared_error(true, predicted) # Calculate Mean Squared Error\n",
    "    RMSE =np.sqrt(MSE) # Calculate Root Mean Squared Error\n",
    "    r2score = r2_score(true, predicted)  # Calculate R_squaredScore/R2score\n",
    "    return MAE, MSE, RMSE, r2score"
   ]
  },
  {
   "cell_type": "code",
   "execution_count": 26,
   "id": "0a3f24cb",
   "metadata": {
    "execution": {
     "iopub.execute_input": "2023-06-12T12:49:25.914464Z",
     "iopub.status.busy": "2023-06-12T12:49:25.914035Z",
     "iopub.status.idle": "2023-06-12T12:49:25.921310Z",
     "shell.execute_reply": "2023-06-12T12:49:25.920109Z"
    },
    "papermill": {
     "duration": 0.021794,
     "end_time": "2023-06-12T12:49:25.923682",
     "exception": false,
     "start_time": "2023-06-12T12:49:25.901888",
     "status": "completed"
    },
    "tags": []
   },
   "outputs": [],
   "source": [
    "# Dictionary which contains models for experiment\n",
    "models = {\n",
    "    \"Linear Regresson\": LinearRegression(),\n",
    "    \"Ridge Regressor\": Ridge(),\n",
    "    \"Lasso Regressor \": Lasso(),\n",
    "    \"Elastic Net Regressor\": ElasticNet(),\n",
    "    \"SVR\": SVR(),\n",
    "    \"K-Neighbors Regressor\": KNeighborsRegressor(),\n",
    "    \"AdaBoost Regressor\": AdaBoostRegressor(),\n",
    "    \"Gradient Boosting\": GradientBoostingRegressor(),\n",
    "    \"XGBRegressor\": XGBRegressor(),\n",
    "    \"Decision Tree Regressor\": DecisionTreeRegressor(),\n",
    "    \"Random Forest Regressor\": RandomForestRegressor()\n",
    "    }"
   ]
  },
  {
   "cell_type": "code",
   "execution_count": 27,
   "id": "570a104a",
   "metadata": {
    "execution": {
     "iopub.execute_input": "2023-06-12T12:49:25.949455Z",
     "iopub.status.busy": "2023-06-12T12:49:25.949031Z",
     "iopub.status.idle": "2023-06-12T12:49:25.966961Z",
     "shell.execute_reply": "2023-06-12T12:49:25.965683Z"
    },
    "papermill": {
     "duration": 0.034126,
     "end_time": "2023-06-12T12:49:25.969741",
     "exception": false,
     "start_time": "2023-06-12T12:49:25.935615",
     "status": "completed"
    },
    "tags": []
   },
   "outputs": [],
   "source": [
    "# Create a function which can evaluate models and return a report \n",
    "def evaluate_models(X, y, models):\n",
    "    '''\n",
    "    This function takes in X and y and models dictionary as input\n",
    "    It splits the data into Train Test split\n",
    "    Iterates through the given model dictionary and evaluates the metrics\n",
    "    Returns: Dataframe which contains report of all models metrics.\n",
    "    '''\n",
    "    # separate dataset into train and test\n",
    "    X_train, X_test, y_train, y_test = train_test_split(X,y,test_size=0.20,random_state=42)\n",
    "    \n",
    "    # Applying Satndard Normalization method (Z-Score Equation):\n",
    "    scalar = StandardScaler()\n",
    "    X_train = scalar.fit_transform(X_train)\n",
    "    X_test = scalar.transform(X_test)\n",
    "    \n",
    "    models_list = []\n",
    "    MAE_train_list = []\n",
    "    MAE_test_list = []\n",
    "    MSE_train_list = []\n",
    "    MSE_test_list = []\n",
    "    RMSE_train_list = []\n",
    "    RMSE_test_list = []\n",
    "    r2score_train_list = []\n",
    "    r2score_test_list = []\n",
    "    r2score_diff = []\n",
    "    \n",
    "    for i in range(len(list(models))):\n",
    "        model = list(models.values())[i]\n",
    "        wrapper = MultiOutputRegressor(model)\n",
    "        wrapper.fit(X_train, y_train) # Train model\n",
    "\n",
    "        # Make predictions\n",
    "        y_train_pred = wrapper.predict(X_train)\n",
    "        y_test_pred = wrapper.predict(X_test)\n",
    "\n",
    "        # Training set performance\n",
    "        model_train_MAE, model_train_MSE, model_train_RMSE,\\\n",
    "        model_train_r2score = evaluate_clf(y_train ,y_train_pred)\n",
    "        \n",
    "        MAE_train_list.append(model_train_MAE)\n",
    "        MSE_train_list.append(model_train_MSE)\n",
    "        RMSE_train_list.append(model_train_RMSE)\n",
    "        r2score_train_list.append(model_train_r2score*100)\n",
    "    \n",
    "        # Test set performance\n",
    "        model_test_MAE,model_test_MSE,model_test_RMSE,\\\n",
    "        model_test_r2score = evaluate_clf(y_test, y_test_pred)\n",
    "        \n",
    "        MAE_test_list.append(model_test_MAE)\n",
    "        MSE_test_list.append(model_test_MSE)\n",
    "        RMSE_test_list.append(model_test_RMSE)\n",
    "        r2score_test_list.append(model_test_r2score*100)\n",
    "        \n",
    "        # r2score_train_test_difference\n",
    "        r2score_diff.append(max(model_train_r2score, model_test_r2score) - \n",
    "                            min(model_train_r2score, model_test_r2score))  \n",
    "    \n",
    "        print(list(models.keys())[i])\n",
    "        models_list.append(list(models.keys())[i])\n",
    "\n",
    "        print('Model performance for Training set')\n",
    "        print(\"- MAE: {:.4f}\".format(model_train_MAE))\n",
    "        print('- MSE: {:.4f}'.format(model_train_MSE)) \n",
    "        print('- RMSE: {:.4f}'.format(model_train_RMSE))\n",
    "        print('- r2score: {:.4f}'.format(model_train_r2score))\n",
    "\n",
    "        print('----------------------------------')\n",
    "\n",
    "        print('Model performance for Test set')\n",
    "        print('- MAE: {:.4f}'.format(model_test_MAE))\n",
    "        print('- MSE: {:.4f}'.format(model_test_MSE))\n",
    "        print('- RMSE: {:.4f}'.format(model_test_RMSE))\n",
    "        print('- r2score: {:.4f}'.format(model_test_r2score))\n",
    "        \n",
    "        print('='*35)\n",
    "        print('\\n')    \n",
    "        \n",
    "    report = pd.DataFrame(list(zip(models_list, MAE_train_list, MAE_test_list, MSE_train_list, MSE_test_list, RMSE_train_list, RMSE_test_list, r2score_train_list,  r2score_test_list, r2score_diff)), columns=['Model Name', 'MAE_train', 'MAE_test', 'MSE_train', 'MSE_test', 'RMSE_train', 'RMSE_test', 'r2score_train', 'r2score_test','r2score_diff']).sort_values(by='r2score_test',ascending=False)\n",
    "        \n",
    "    return report"
   ]
  },
  {
   "cell_type": "code",
   "execution_count": 28,
   "id": "f72052ef",
   "metadata": {
    "execution": {
     "iopub.execute_input": "2023-06-12T12:49:25.993498Z",
     "iopub.status.busy": "2023-06-12T12:49:25.993061Z",
     "iopub.status.idle": "2023-06-12T12:49:27.011488Z",
     "shell.execute_reply": "2023-06-12T12:49:27.008794Z"
    },
    "papermill": {
     "duration": 1.034294,
     "end_time": "2023-06-12T12:49:27.015080",
     "exception": false,
     "start_time": "2023-06-12T12:49:25.980786",
     "status": "completed"
    },
    "tags": []
   },
   "outputs": [
    {
     "name": "stdout",
     "output_type": "stream",
     "text": [
      "Linear Regresson\n",
      "Model performance for Training set\n",
      "- MAE: 17.5807\n",
      "- MSE: 1602.0695\n",
      "- RMSE: 40.0259\n",
      "- r2score: 0.0616\n",
      "----------------------------------\n",
      "Model performance for Test set\n",
      "- MAE: 13.8839\n",
      "- MSE: 600.1911\n",
      "- RMSE: 24.4988\n",
      "- r2score: 0.0912\n",
      "===================================\n",
      "\n",
      "\n",
      "Ridge Regressor\n",
      "Model performance for Training set\n",
      "- MAE: 17.5809\n",
      "- MSE: 1602.0850\n",
      "- RMSE: 40.0261\n",
      "- r2score: 0.0616\n",
      "----------------------------------\n",
      "Model performance for Test set\n",
      "- MAE: 13.9201\n",
      "- MSE: 601.1638\n",
      "- RMSE: 24.5186\n",
      "- r2score: 0.0903\n",
      "===================================\n",
      "\n",
      "\n",
      "Lasso Regressor \n",
      "Model performance for Training set\n",
      "- MAE: 17.5838\n",
      "- MSE: 1602.9287\n",
      "- RMSE: 40.0366\n",
      "- r2score: 0.0296\n",
      "----------------------------------\n",
      "Model performance for Test set\n",
      "- MAE: 14.1422\n",
      "- MSE: 606.2384\n",
      "- RMSE: 24.6219\n",
      "- r2score: 0.0605\n",
      "===================================\n",
      "\n",
      "\n",
      "Elastic Net Regressor\n",
      "Model performance for Training set\n",
      "- MAE: 17.6292\n",
      "- MSE: 1615.1141\n",
      "- RMSE: 40.1885\n",
      "- r2score: 0.0410\n",
      "----------------------------------\n",
      "Model performance for Test set\n",
      "- MAE: 14.9514\n",
      "- MSE: 634.5413\n",
      "- RMSE: 25.1901\n",
      "- r2score: 0.0507\n",
      "===================================\n",
      "\n",
      "\n",
      "SVR\n",
      "Model performance for Training set\n",
      "- MAE: 14.9027\n",
      "- MSE: 1846.3357\n",
      "- RMSE: 42.9690\n",
      "- r2score: -0.0640\n",
      "----------------------------------\n",
      "Model performance for Test set\n",
      "- MAE: 12.5711\n",
      "- MSE: 773.7273\n",
      "- RMSE: 27.8160\n",
      "- r2score: -0.1535\n",
      "===================================\n",
      "\n",
      "\n",
      "K-Neighbors Regressor\n",
      "Model performance for Training set\n",
      "- MAE: 16.0175\n",
      "- MSE: 1348.7800\n",
      "- RMSE: 36.7257\n",
      "- r2score: 0.2004\n",
      "----------------------------------\n",
      "Model performance for Test set\n",
      "- MAE: 11.6000\n",
      "- MSE: 541.3480\n",
      "- RMSE: 23.2669\n",
      "- r2score: 0.2802\n",
      "===================================\n",
      "\n",
      "\n",
      "AdaBoost Regressor\n",
      "Model performance for Training set\n",
      "- MAE: 13.2682\n",
      "- MSE: 799.1517\n",
      "- RMSE: 28.2693\n",
      "- r2score: 0.6891\n",
      "----------------------------------\n",
      "Model performance for Test set\n",
      "- MAE: 12.5824\n",
      "- MSE: 540.2525\n",
      "- RMSE: 23.2433\n",
      "- r2score: 0.2151\n",
      "===================================\n",
      "\n",
      "\n",
      "Gradient Boosting\n",
      "Model performance for Training set\n",
      "- MAE: 4.4906\n",
      "- MSE: 56.4654\n",
      "- RMSE: 7.5143\n",
      "- r2score: 0.9697\n",
      "----------------------------------\n",
      "Model performance for Test set\n",
      "- MAE: 5.7064\n",
      "- MSE: 95.7683\n",
      "- RMSE: 9.7861\n",
      "- r2score: 0.5670\n",
      "===================================\n",
      "\n",
      "\n",
      "XGBRegressor\n",
      "Model performance for Training set\n",
      "- MAE: 0.5929\n",
      "- MSE: 2.6355\n",
      "- RMSE: 1.6234\n",
      "- r2score: 0.9931\n",
      "----------------------------------\n",
      "Model performance for Test set\n",
      "- MAE: 12.0721\n",
      "- MSE: 772.2032\n",
      "- RMSE: 27.7885\n",
      "- r2score: -0.0427\n",
      "===================================\n",
      "\n",
      "\n",
      "Decision Tree Regressor\n",
      "Model performance for Training set\n",
      "- MAE: 0.3438\n",
      "- MSE: 2.4469\n",
      "- RMSE: 1.5642\n",
      "- r2score: 0.9932\n",
      "----------------------------------\n",
      "Model performance for Test set\n",
      "- MAE: 5.9000\n",
      "- MSE: 97.5500\n",
      "- RMSE: 9.8767\n",
      "- r2score: 0.4991\n",
      "===================================\n",
      "\n",
      "\n",
      "Random Forest Regressor\n",
      "Model performance for Training set\n",
      "- MAE: 8.2751\n",
      "- MSE: 341.1479\n",
      "- RMSE: 18.4702\n",
      "- r2score: 0.7969\n",
      "----------------------------------\n",
      "Model performance for Test set\n",
      "- MAE: 7.6613\n",
      "- MSE: 177.1675\n",
      "- RMSE: 13.3104\n",
      "- r2score: 0.6610\n",
      "===================================\n",
      "\n",
      "\n"
     ]
    }
   ],
   "source": [
    "report = evaluate_models(X, y, models)"
   ]
  },
  {
   "cell_type": "code",
   "execution_count": 29,
   "id": "42078492",
   "metadata": {
    "execution": {
     "iopub.execute_input": "2023-06-12T12:49:27.042142Z",
     "iopub.status.busy": "2023-06-12T12:49:27.040620Z",
     "iopub.status.idle": "2023-06-12T12:49:27.061805Z",
     "shell.execute_reply": "2023-06-12T12:49:27.060466Z"
    },
    "papermill": {
     "duration": 0.036597,
     "end_time": "2023-06-12T12:49:27.064532",
     "exception": false,
     "start_time": "2023-06-12T12:49:27.027935",
     "status": "completed"
    },
    "tags": []
   },
   "outputs": [
    {
     "data": {
      "text/html": [
       "<div>\n",
       "<style scoped>\n",
       "    .dataframe tbody tr th:only-of-type {\n",
       "        vertical-align: middle;\n",
       "    }\n",
       "\n",
       "    .dataframe tbody tr th {\n",
       "        vertical-align: top;\n",
       "    }\n",
       "\n",
       "    .dataframe thead th {\n",
       "        text-align: right;\n",
       "    }\n",
       "</style>\n",
       "<table border=\"1\" class=\"dataframe\">\n",
       "  <thead>\n",
       "    <tr style=\"text-align: right;\">\n",
       "      <th></th>\n",
       "      <th>Model Name</th>\n",
       "      <th>MAE_train</th>\n",
       "      <th>MAE_test</th>\n",
       "      <th>MSE_train</th>\n",
       "      <th>MSE_test</th>\n",
       "      <th>RMSE_train</th>\n",
       "      <th>RMSE_test</th>\n",
       "      <th>r2score_train</th>\n",
       "      <th>r2score_test</th>\n",
       "      <th>r2score_diff</th>\n",
       "    </tr>\n",
       "  </thead>\n",
       "  <tbody>\n",
       "    <tr>\n",
       "      <th>10</th>\n",
       "      <td>Random Forest Regressor</td>\n",
       "      <td>8.275106</td>\n",
       "      <td>7.661275</td>\n",
       "      <td>341.147888</td>\n",
       "      <td>177.167466</td>\n",
       "      <td>18.470189</td>\n",
       "      <td>13.310427</td>\n",
       "      <td>79.688086</td>\n",
       "      <td>66.104386</td>\n",
       "      <td>0.135837</td>\n",
       "    </tr>\n",
       "    <tr>\n",
       "      <th>7</th>\n",
       "      <td>Gradient Boosting</td>\n",
       "      <td>4.490578</td>\n",
       "      <td>5.706396</td>\n",
       "      <td>56.465441</td>\n",
       "      <td>95.768346</td>\n",
       "      <td>7.514349</td>\n",
       "      <td>9.786130</td>\n",
       "      <td>96.971578</td>\n",
       "      <td>56.700040</td>\n",
       "      <td>0.402715</td>\n",
       "    </tr>\n",
       "    <tr>\n",
       "      <th>9</th>\n",
       "      <td>Decision Tree Regressor</td>\n",
       "      <td>0.343750</td>\n",
       "      <td>5.900000</td>\n",
       "      <td>2.446875</td>\n",
       "      <td>97.550000</td>\n",
       "      <td>1.564249</td>\n",
       "      <td>9.876740</td>\n",
       "      <td>99.320131</td>\n",
       "      <td>49.905195</td>\n",
       "      <td>0.494149</td>\n",
       "    </tr>\n",
       "    <tr>\n",
       "      <th>5</th>\n",
       "      <td>K-Neighbors Regressor</td>\n",
       "      <td>16.017500</td>\n",
       "      <td>11.600000</td>\n",
       "      <td>1348.780000</td>\n",
       "      <td>541.348000</td>\n",
       "      <td>36.725740</td>\n",
       "      <td>23.266886</td>\n",
       "      <td>20.043366</td>\n",
       "      <td>28.017093</td>\n",
       "      <td>0.079737</td>\n",
       "    </tr>\n",
       "    <tr>\n",
       "      <th>6</th>\n",
       "      <td>AdaBoost Regressor</td>\n",
       "      <td>13.268187</td>\n",
       "      <td>12.582419</td>\n",
       "      <td>799.151745</td>\n",
       "      <td>540.252479</td>\n",
       "      <td>28.269272</td>\n",
       "      <td>23.243332</td>\n",
       "      <td>68.912602</td>\n",
       "      <td>21.512117</td>\n",
       "      <td>0.474005</td>\n",
       "    </tr>\n",
       "    <tr>\n",
       "      <th>0</th>\n",
       "      <td>Linear Regresson</td>\n",
       "      <td>17.580735</td>\n",
       "      <td>13.883913</td>\n",
       "      <td>1602.069510</td>\n",
       "      <td>600.191075</td>\n",
       "      <td>40.025861</td>\n",
       "      <td>24.498797</td>\n",
       "      <td>6.159988</td>\n",
       "      <td>9.115915</td>\n",
       "      <td>0.029559</td>\n",
       "    </tr>\n",
       "    <tr>\n",
       "      <th>1</th>\n",
       "      <td>Ridge Regressor</td>\n",
       "      <td>17.580918</td>\n",
       "      <td>13.920061</td>\n",
       "      <td>1602.084956</td>\n",
       "      <td>601.163820</td>\n",
       "      <td>40.026053</td>\n",
       "      <td>24.518642</td>\n",
       "      <td>6.159049</td>\n",
       "      <td>9.033023</td>\n",
       "      <td>0.028740</td>\n",
       "    </tr>\n",
       "    <tr>\n",
       "      <th>2</th>\n",
       "      <td>Lasso Regressor</td>\n",
       "      <td>17.583754</td>\n",
       "      <td>14.142214</td>\n",
       "      <td>1602.928687</td>\n",
       "      <td>606.238364</td>\n",
       "      <td>40.036592</td>\n",
       "      <td>24.621908</td>\n",
       "      <td>2.959257</td>\n",
       "      <td>6.049291</td>\n",
       "      <td>0.030900</td>\n",
       "    </tr>\n",
       "    <tr>\n",
       "      <th>3</th>\n",
       "      <td>Elastic Net Regressor</td>\n",
       "      <td>17.629167</td>\n",
       "      <td>14.951446</td>\n",
       "      <td>1615.114092</td>\n",
       "      <td>634.541261</td>\n",
       "      <td>40.188482</td>\n",
       "      <td>25.190102</td>\n",
       "      <td>4.099269</td>\n",
       "      <td>5.072964</td>\n",
       "      <td>0.009737</td>\n",
       "    </tr>\n",
       "    <tr>\n",
       "      <th>8</th>\n",
       "      <td>XGBRegressor</td>\n",
       "      <td>0.592887</td>\n",
       "      <td>12.072101</td>\n",
       "      <td>2.635528</td>\n",
       "      <td>772.203181</td>\n",
       "      <td>1.623431</td>\n",
       "      <td>27.788544</td>\n",
       "      <td>99.314431</td>\n",
       "      <td>-4.268208</td>\n",
       "      <td>1.035826</td>\n",
       "    </tr>\n",
       "    <tr>\n",
       "      <th>4</th>\n",
       "      <td>SVR</td>\n",
       "      <td>14.902738</td>\n",
       "      <td>12.571147</td>\n",
       "      <td>1846.335658</td>\n",
       "      <td>773.727277</td>\n",
       "      <td>42.969008</td>\n",
       "      <td>27.815954</td>\n",
       "      <td>-6.399168</td>\n",
       "      <td>-15.346728</td>\n",
       "      <td>0.089476</td>\n",
       "    </tr>\n",
       "  </tbody>\n",
       "</table>\n",
       "</div>"
      ],
      "text/plain": [
       "                 Model Name  MAE_train   MAE_test    MSE_train    MSE_test  \\\n",
       "10  Random Forest Regressor   8.275106   7.661275   341.147888  177.167466   \n",
       "7         Gradient Boosting   4.490578   5.706396    56.465441   95.768346   \n",
       "9   Decision Tree Regressor   0.343750   5.900000     2.446875   97.550000   \n",
       "5     K-Neighbors Regressor  16.017500  11.600000  1348.780000  541.348000   \n",
       "6        AdaBoost Regressor  13.268187  12.582419   799.151745  540.252479   \n",
       "0          Linear Regresson  17.580735  13.883913  1602.069510  600.191075   \n",
       "1           Ridge Regressor  17.580918  13.920061  1602.084956  601.163820   \n",
       "2          Lasso Regressor   17.583754  14.142214  1602.928687  606.238364   \n",
       "3     Elastic Net Regressor  17.629167  14.951446  1615.114092  634.541261   \n",
       "8              XGBRegressor   0.592887  12.072101     2.635528  772.203181   \n",
       "4                       SVR  14.902738  12.571147  1846.335658  773.727277   \n",
       "\n",
       "    RMSE_train  RMSE_test  r2score_train  r2score_test  r2score_diff  \n",
       "10   18.470189  13.310427      79.688086     66.104386      0.135837  \n",
       "7     7.514349   9.786130      96.971578     56.700040      0.402715  \n",
       "9     1.564249   9.876740      99.320131     49.905195      0.494149  \n",
       "5    36.725740  23.266886      20.043366     28.017093      0.079737  \n",
       "6    28.269272  23.243332      68.912602     21.512117      0.474005  \n",
       "0    40.025861  24.498797       6.159988      9.115915      0.029559  \n",
       "1    40.026053  24.518642       6.159049      9.033023      0.028740  \n",
       "2    40.036592  24.621908       2.959257      6.049291      0.030900  \n",
       "3    40.188482  25.190102       4.099269      5.072964      0.009737  \n",
       "8     1.623431  27.788544      99.314431     -4.268208      1.035826  \n",
       "4    42.969008  27.815954      -6.399168    -15.346728      0.089476  "
      ]
     },
     "execution_count": 29,
     "metadata": {},
     "output_type": "execute_result"
    }
   ],
   "source": [
    "report"
   ]
  },
  {
   "cell_type": "code",
   "execution_count": 30,
   "id": "b9ee5fd3",
   "metadata": {
    "execution": {
     "iopub.execute_input": "2023-06-12T12:49:27.091098Z",
     "iopub.status.busy": "2023-06-12T12:49:27.089995Z",
     "iopub.status.idle": "2023-06-12T12:49:31.730625Z",
     "shell.execute_reply": "2023-06-12T12:49:31.728075Z"
    },
    "papermill": {
     "duration": 4.657152,
     "end_time": "2023-06-12T12:49:31.733410",
     "exception": false,
     "start_time": "2023-06-12T12:49:27.076258",
     "status": "completed"
    },
    "tags": []
   },
   "outputs": [
    {
     "name": "stdout",
     "output_type": "stream",
     "text": [
      "Final RandomForest Regressor Accuracy Score (Train) : 0.72373720446705\n",
      "Final RandomForest Regressor Accuracy Score (Test) : 0.1316418432486436\n"
     ]
    }
   ],
   "source": [
    "final_model = RandomForestRegressor(n_estimators = 1000, max_depth = 5, random_state=42, n_jobs=-1)\n",
    "\n",
    "X_train, X_test, y_train, y_test = train_test_split(X,y,test_size=0.20,random_state=42)\n",
    "\n",
    "scalar = StandardScaler()\n",
    "X_train = scalar.fit_transform(X_train)\n",
    "X_test = scalar.transform(X_test)\n",
    "wrapper = MultiOutputRegressor(final_model)\n",
    "\n",
    "final_model = wrapper.fit(X_train, y_train)\n",
    "y_pred = final_model.predict(X_test)\n",
    "\n",
    "print(\"Final RandomForest Regressor Accuracy Score (Train) :\", final_model.score(X_train,y_train))\n",
    "print(\"Final RandomForest Regressor Accuracy Score (Test) :\", r2_score(y_pred,y_test))"
   ]
  },
  {
   "cell_type": "code",
   "execution_count": 31,
   "id": "323b868d",
   "metadata": {
    "execution": {
     "iopub.execute_input": "2023-06-12T12:49:31.759973Z",
     "iopub.status.busy": "2023-06-12T12:49:31.758888Z",
     "iopub.status.idle": "2023-06-12T12:49:32.147554Z",
     "shell.execute_reply": "2023-06-12T12:49:32.146540Z"
    },
    "papermill": {
     "duration": 0.4051,
     "end_time": "2023-06-12T12:49:32.150555",
     "exception": false,
     "start_time": "2023-06-12T12:49:31.745455",
     "status": "completed"
    },
    "tags": []
   },
   "outputs": [
    {
     "name": "stdout",
     "output_type": "stream",
     "text": [
      "[0.15081552]\n",
      "Nnumber of Likes:  16.495048439146856\n",
      "Time since posted:  2.1065460564241234 hours\n"
     ]
    }
   ],
   "source": [
    "# Let's predict:\n",
    "print(X_test[2])\n",
    "y_pred = final_model.predict([X_test[0]])\n",
    "y_pred\n",
    "print(\"Nnumber of Likes: \", y_pred[0][0])\n",
    "print(\"Time since posted: \", y_pred[0][1], 'hours')"
   ]
  },
  {
   "cell_type": "code",
   "execution_count": null,
   "id": "4306e5b6",
   "metadata": {},
   "outputs": [],
   "source": []
  },
  {
   "cell_type": "code",
   "execution_count": 36,
   "id": "9ba56a95",
   "metadata": {},
   "outputs": [
    {
     "data": {
      "text/plain": [
       "array([-0.71693828])"
      ]
     },
     "execution_count": 36,
     "metadata": {},
     "output_type": "execute_result"
    }
   ],
   "source": [
    "X_train[3]"
   ]
  },
  {
   "cell_type": "code",
   "execution_count": 34,
   "id": "eb2247fa",
   "metadata": {
    "papermill": {
     "duration": 0.01169,
     "end_time": "2023-06-12T12:49:32.174438",
     "exception": false,
     "start_time": "2023-06-12T12:49:32.162748",
     "status": "completed"
    },
    "tags": []
   },
   "outputs": [
    {
     "name": "stdout",
     "output_type": "stream",
     "text": [
      "[-0.71693828]\n",
      "Nnumber of Likes:  219.62770225716233\n",
      "Time since posted:  15.682177835762 hours\n"
     ]
    }
   ],
   "source": [
    "# Let's predict:\n",
    "print(X_train[3])\n",
    "y_pred = final_model.predict([X_train[0]])\n",
    "y_pred\n",
    "print(\"Nnumber of Likes: \", y_pred[0][0])\n",
    "print(\"Time since posted: \", y_pred[0][1], 'hours')"
   ]
  }
 ],
 "metadata": {
  "kernelspec": {
   "display_name": "Python 3",
   "language": "python",
   "name": "python3"
  },
  "language_info": {
   "codemirror_mode": {
    "name": "ipython",
    "version": 3
   },
   "file_extension": ".py",
   "mimetype": "text/x-python",
   "name": "python",
   "nbconvert_exporter": "python",
   "pygments_lexer": "ipython3",
   "version": "3.10.9"
  },
  "papermill": {
   "default_parameters": {},
   "duration": 25.514215,
   "end_time": "2023-06-12T12:49:34.809697",
   "environment_variables": {},
   "exception": null,
   "input_path": "__notebook__.ipynb",
   "output_path": "__notebook__.ipynb",
   "parameters": {},
   "start_time": "2023-06-12T12:49:09.295482",
   "version": "2.4.0"
  }
 },
 "nbformat": 4,
 "nbformat_minor": 5
}
